{
  "cells": [
    {
      "cell_type": "markdown",
      "metadata": {
        "id": "view-in-github",
        "colab_type": "text"
      },
      "source": [
        "<a href=\"https://colab.research.google.com/github/vinothv99/Numpy/blob/main/Copy_of_Numpy_tasks.ipynb\" target=\"_parent\"><img src=\"https://colab.research.google.com/assets/colab-badge.svg\" alt=\"Open In Colab\"/></a>"
      ]
    },
    {
      "cell_type": "markdown",
      "metadata": {
        "id": "ALvzJywvSfLL"
      },
      "source": [
        "# Numpy\n",
        "\n"
      ]
    },
    {
      "cell_type": "markdown",
      "metadata": {
        "id": "NMNuaNxoSfLT"
      },
      "source": [
        "#### 1. Import the numpy package under the name `np` (★☆☆) \n",
        "(**hint**: import … as …)"
      ]
    },
    {
      "cell_type": "code",
      "execution_count": 2,
      "metadata": {
        "collapsed": true,
        "id": "Vs5l8ggGSfLW"
      },
      "outputs": [],
      "source": [
        "import numpy as np"
      ]
    },
    {
      "cell_type": "markdown",
      "metadata": {
        "id": "VXj8KDBkSfLX"
      },
      "source": [
        "#### 2. Print the numpy version and the configuration (★☆☆) \n",
        "(**hint**: np.\\_\\_version\\_\\_, np.show\\_config)"
      ]
    },
    {
      "cell_type": "code",
      "execution_count": null,
      "metadata": {
        "colab": {
          "base_uri": "https://localhost:8080/",
          "height": 35
        },
        "id": "9RhQW8KLSfLZ",
        "outputId": "c230c349-e0a7-4ffc-e976-d749273ba917"
      },
      "outputs": [
        {
          "output_type": "execute_result",
          "data": {
            "text/plain": [
              "'1.21.6'"
            ],
            "application/vnd.google.colaboratory.intrinsic+json": {
              "type": "string"
            }
          },
          "metadata": {},
          "execution_count": 4
        }
      ],
      "source": [
        "np.__version__\n"
      ]
    },
    {
      "cell_type": "code",
      "source": [
        "np.show_config()"
      ],
      "metadata": {
        "colab": {
          "base_uri": "https://localhost:8080/"
        },
        "id": "rzdicamJS-Fb",
        "outputId": "5704f797-0271-412a-f633-50b76907100a"
      },
      "execution_count": null,
      "outputs": [
        {
          "output_type": "stream",
          "name": "stdout",
          "text": [
            "blas_mkl_info:\n",
            "  NOT AVAILABLE\n",
            "blis_info:\n",
            "  NOT AVAILABLE\n",
            "openblas_info:\n",
            "    libraries = ['openblas', 'openblas']\n",
            "    library_dirs = ['/usr/local/lib']\n",
            "    language = c\n",
            "    define_macros = [('HAVE_CBLAS', None)]\n",
            "    runtime_library_dirs = ['/usr/local/lib']\n",
            "blas_opt_info:\n",
            "    libraries = ['openblas', 'openblas']\n",
            "    library_dirs = ['/usr/local/lib']\n",
            "    language = c\n",
            "    define_macros = [('HAVE_CBLAS', None)]\n",
            "    runtime_library_dirs = ['/usr/local/lib']\n",
            "lapack_mkl_info:\n",
            "  NOT AVAILABLE\n",
            "openblas_lapack_info:\n",
            "    libraries = ['openblas', 'openblas']\n",
            "    library_dirs = ['/usr/local/lib']\n",
            "    language = c\n",
            "    define_macros = [('HAVE_CBLAS', None)]\n",
            "    runtime_library_dirs = ['/usr/local/lib']\n",
            "lapack_opt_info:\n",
            "    libraries = ['openblas', 'openblas']\n",
            "    library_dirs = ['/usr/local/lib']\n",
            "    language = c\n",
            "    define_macros = [('HAVE_CBLAS', None)]\n",
            "    runtime_library_dirs = ['/usr/local/lib']\n",
            "Supported SIMD extensions in this NumPy install:\n",
            "    baseline = SSE,SSE2,SSE3\n",
            "    found = SSSE3,SSE41,POPCNT,SSE42,AVX,F16C,FMA3,AVX2\n",
            "    not found = AVX512F,AVX512CD,AVX512_KNL,AVX512_KNM,AVX512_SKX,AVX512_CLX,AVX512_CNL,AVX512_ICL\n"
          ]
        }
      ]
    },
    {
      "cell_type": "markdown",
      "metadata": {
        "id": "RAPOd1DlSfLZ"
      },
      "source": [
        "#### 3. Create a null vector of size 10 (★☆☆) \n",
        "(**hint**: np.zeros)"
      ]
    },
    {
      "cell_type": "code",
      "execution_count": null,
      "metadata": {
        "colab": {
          "base_uri": "https://localhost:8080/"
        },
        "id": "ArAhk1rcSfLb",
        "outputId": "f7fb52d9-e797-4a0b-eec6-ab297b1c6e2d"
      },
      "outputs": [
        {
          "output_type": "execute_result",
          "data": {
            "text/plain": [
              "array([0., 0., 0., 0., 0., 0., 0., 0., 0., 0.])"
            ]
          },
          "metadata": {},
          "execution_count": 5
        }
      ],
      "source": [
        "zeros = np.zeros(10)\n",
        "zeros"
      ]
    },
    {
      "cell_type": "markdown",
      "metadata": {
        "id": "kZnNOpMSSfLc"
      },
      "source": [
        "#### 4.  How to find the memory size of any array (★☆☆) \n",
        "(**hint**: size, itemsize)"
      ]
    },
    {
      "cell_type": "code",
      "execution_count": null,
      "metadata": {
        "colab": {
          "base_uri": "https://localhost:8080/"
        },
        "id": "QFdgrYGjSfLd",
        "outputId": "49ae2a37-f5f5-4bc2-8b58-e0bef23008b3"
      },
      "outputs": [
        {
          "output_type": "execute_result",
          "data": {
            "text/plain": [
              "2"
            ]
          },
          "metadata": {},
          "execution_count": 19
        }
      ],
      "source": [
        "a = np.array([2,2])\n",
        "a.size\n"
      ]
    },
    {
      "cell_type": "code",
      "source": [
        "b = np.array([2,4,6,8,10])\n",
        "b.itemsize"
      ],
      "metadata": {
        "id": "TlOErijoVCNb",
        "outputId": "baf63dce-a073-4f40-b8d9-f0f94648559f",
        "colab": {
          "base_uri": "https://localhost:8080/"
        }
      },
      "execution_count": null,
      "outputs": [
        {
          "output_type": "execute_result",
          "data": {
            "text/plain": [
              "8"
            ]
          },
          "metadata": {},
          "execution_count": 3
        }
      ]
    },
    {
      "cell_type": "markdown",
      "metadata": {
        "id": "INGUbJGaSfLg"
      },
      "source": [
        "#### 5.  How to get the documentation of the numpy add function from the command line? (★☆☆) \n",
        "(**hint**: np.info)"
      ]
    },
    {
      "cell_type": "code",
      "execution_count": null,
      "metadata": {
        "collapsed": true,
        "colab": {
          "base_uri": "https://localhost:8080/"
        },
        "id": "TCZqjZTiSfLj",
        "outputId": "b85dbdd0-c544-4825-ab2e-6444d46b9b27"
      },
      "outputs": [
        {
          "output_type": "stream",
          "name": "stdout",
          "text": [
            " info(object=None, maxwidth=76,\n",
            "      output=<ipykernel.iostream.OutStream object at 0x7fa8b0679610>,\n",
            "      toplevel='numpy')\n",
            "\n",
            "Get help information for a function, class, or module.\n",
            "\n",
            "Parameters\n",
            "----------\n",
            "object : object or str, optional\n",
            "    Input object or name to get information about. If `object` is a\n",
            "    numpy object, its docstring is given. If it is a string, available\n",
            "    modules are searched for matching objects.  If None, information\n",
            "    about `info` itself is returned.\n",
            "maxwidth : int, optional\n",
            "    Printing width.\n",
            "output : file like object, optional\n",
            "    File like object that the output is written to, default is\n",
            "    ``stdout``.  The object has to be opened in 'w' or 'a' mode.\n",
            "toplevel : str, optional\n",
            "    Start search at this level.\n",
            "\n",
            "See Also\n",
            "--------\n",
            "source, lookfor\n",
            "\n",
            "Notes\n",
            "-----\n",
            "When used interactively with an object, ``np.info(obj)`` is equivalent\n",
            "to ``help(obj)`` on the Python prompt or ``obj?`` on the IPython\n",
            "prompt.\n",
            "\n",
            "Examples\n",
            "--------\n",
            ">>> np.info(np.polyval) # doctest: +SKIP\n",
            "   polyval(p, x)\n",
            "     Evaluate the polynomial p at x.\n",
            "     ...\n",
            "\n",
            "When using a string for `object` it is possible to get multiple results.\n",
            "\n",
            ">>> np.info('fft') # doctest: +SKIP\n",
            "     *** Found in numpy ***\n",
            "Core FFT routines\n",
            "...\n",
            "     *** Found in numpy.fft ***\n",
            " fft(a, n=None, axis=-1)\n",
            "...\n",
            "     *** Repeat reference found in numpy.fft.fftpack ***\n",
            "     *** Total of 3 references found. ***\n"
          ]
        }
      ],
      "source": [
        "np.info()"
      ]
    },
    {
      "cell_type": "markdown",
      "metadata": {
        "id": "OX-wvX3HSfLk"
      },
      "source": [
        "#### 6.  Create a null vector of size 10 but the fifth value which is 1 (★☆☆) \n",
        "(**hint**: array\\[4\\])"
      ]
    },
    {
      "cell_type": "code",
      "execution_count": null,
      "metadata": {
        "colab": {
          "base_uri": "https://localhost:8080/"
        },
        "id": "m97wYDOlSfLl",
        "outputId": "e676be84-ea2a-4c32-fcd8-7ff836427998"
      },
      "outputs": [
        {
          "output_type": "execute_result",
          "data": {
            "text/plain": [
              "array([0., 0., 0., 0., 1., 0., 0., 0., 0., 0.])"
            ]
          },
          "metadata": {},
          "execution_count": 23
        }
      ],
      "source": [
        "c = np.zeros(10)\n",
        "c[4] = 1\n",
        "c"
      ]
    },
    {
      "cell_type": "markdown",
      "metadata": {
        "id": "5vx_rbShSfLl"
      },
      "source": [
        "#### 7.  Create a vector with values ranging from 10 to 49 (★☆☆) \n",
        "(**hint**: np.arange)"
      ]
    },
    {
      "cell_type": "code",
      "execution_count": null,
      "metadata": {
        "colab": {
          "base_uri": "https://localhost:8080/"
        },
        "id": "xP5el3_WSfLl",
        "outputId": "4b955a29-2332-4376-953a-ffb2707767f4"
      },
      "outputs": [
        {
          "output_type": "execute_result",
          "data": {
            "text/plain": [
              "array([10, 11, 12, 13, 14, 15, 16, 17, 18, 19, 20, 21, 22, 23, 24, 25, 26,\n",
              "       27, 28, 29, 30, 31, 32, 33, 34, 35, 36, 37, 38, 39, 40, 41, 42, 43,\n",
              "       44, 45, 46, 47, 48, 49])"
            ]
          },
          "metadata": {},
          "execution_count": 7
        }
      ],
      "source": [
        "d = np.arange(10,50)\n",
        "d"
      ]
    },
    {
      "cell_type": "markdown",
      "metadata": {
        "id": "k_oBN_rUSfLl"
      },
      "source": [
        "#### 8.  Reverse a vector (first element becomes last) (★☆☆) \n",
        "(**hint**: array\\[::-1\\])"
      ]
    },
    {
      "cell_type": "code",
      "execution_count": null,
      "metadata": {
        "colab": {
          "base_uri": "https://localhost:8080/"
        },
        "id": "HrDfsHUwSfLn",
        "outputId": "0efe6aca-bb26-41d1-b232-5c12290dbe90"
      },
      "outputs": [
        {
          "output_type": "execute_result",
          "data": {
            "text/plain": [
              "array([6, 5, 4, 3, 2])"
            ]
          },
          "metadata": {},
          "execution_count": 30
        }
      ],
      "source": [
        "e = np.array([2,3,4,5,6])\n",
        "e[::-1]\n"
      ]
    },
    {
      "cell_type": "markdown",
      "metadata": {
        "id": "3Ogi7hf6SfLn"
      },
      "source": [
        "#### 9.  Create a 3x3 matrix with values ranging from 0 to 8 (★☆☆) \n",
        "(**hint**: reshape)"
      ]
    },
    {
      "cell_type": "code",
      "execution_count": null,
      "metadata": {
        "colab": {
          "base_uri": "https://localhost:8080/"
        },
        "id": "qEY44gvqSfLo",
        "outputId": "e39de3e7-7c9e-41fe-c3b2-4a1e997c4e83"
      },
      "outputs": [
        {
          "output_type": "execute_result",
          "data": {
            "text/plain": [
              "array([[0, 1, 2],\n",
              "       [3, 4, 5],\n",
              "       [6, 7, 8]])"
            ]
          },
          "metadata": {},
          "execution_count": 6
        }
      ],
      "source": [
        "f = np.arange(0,9)\n",
        "f.reshape(3,3)"
      ]
    },
    {
      "cell_type": "markdown",
      "metadata": {
        "id": "0NzIQk2JSfLp"
      },
      "source": [
        "#### 10. Find indices of non-zero elements from \\[1,2,0,0,4,0\\] (★☆☆) \n",
        "(**hint**: np.nonzero)"
      ]
    },
    {
      "cell_type": "code",
      "execution_count": null,
      "metadata": {
        "colab": {
          "base_uri": "https://localhost:8080/"
        },
        "id": "2wo9hS_sSfLq",
        "outputId": "43dd40de-67c3-4165-b624-0fa90ccdba6a"
      },
      "outputs": [
        {
          "output_type": "execute_result",
          "data": {
            "text/plain": [
              "(array([0, 1, 3]),)"
            ]
          },
          "metadata": {},
          "execution_count": 12
        }
      ],
      "source": [
        "g = np.array([1,2,0,4,0])\n",
        "A = g.nonzero()\n",
        "A"
      ]
    },
    {
      "cell_type": "markdown",
      "metadata": {
        "id": "GR6jfkCSSfLq"
      },
      "source": [
        "#### 11. Create a 3x3 identity matrix (★☆☆) \n",
        "(**hint**: np.eye)"
      ]
    },
    {
      "cell_type": "code",
      "execution_count": null,
      "metadata": {
        "id": "_F8KGGXtSfLq",
        "colab": {
          "base_uri": "https://localhost:8080/"
        },
        "outputId": "d839c29b-4323-4835-a709-92673d33d55a"
      },
      "outputs": [
        {
          "output_type": "execute_result",
          "data": {
            "text/plain": [
              "array([[1., 0., 0.],\n",
              "       [0., 1., 0.],\n",
              "       [0., 0., 1.]])"
            ]
          },
          "metadata": {},
          "execution_count": 13
        }
      ],
      "source": [
        "h = np.eye(3)\n",
        "h"
      ]
    },
    {
      "cell_type": "markdown",
      "metadata": {
        "id": "iYEFVXI3SfLr"
      },
      "source": [
        "#### 12. Create a 3x3x3 array with random values (★☆☆) \n",
        "(**hint**: np.random.random)"
      ]
    },
    {
      "cell_type": "code",
      "execution_count": null,
      "metadata": {
        "collapsed": true,
        "id": "chTiqCWTSfLs",
        "colab": {
          "base_uri": "https://localhost:8080/"
        },
        "outputId": "7cdc8969-3c67-4581-b4ee-faeb8a0fc95b"
      },
      "outputs": [
        {
          "output_type": "execute_result",
          "data": {
            "text/plain": [
              "array([[[0.31216999, 0.81086288, 0.03136084],\n",
              "        [0.33981134, 0.23294061, 0.14743434],\n",
              "        [0.3628862 , 0.00368997, 0.66492766]],\n",
              "\n",
              "       [[0.26854057, 0.22965192, 0.43626223],\n",
              "        [0.5521761 , 0.84005005, 0.89429476],\n",
              "        [0.8972573 , 0.90167392, 0.10265848]],\n",
              "\n",
              "       [[0.83058644, 0.72260025, 0.24954153],\n",
              "        [0.11265449, 0.2727274 , 0.26776667],\n",
              "        [0.15532975, 0.12124361, 0.4241312 ]]])"
            ]
          },
          "metadata": {},
          "execution_count": 16
        }
      ],
      "source": [
        "i = np.random.random((3,3,3))\n",
        "i"
      ]
    },
    {
      "cell_type": "markdown",
      "metadata": {
        "id": "QidzyCCBSfLt"
      },
      "source": [
        "#### 13. Create a 10x10 array with random values and find the minimum and maximum values (★☆☆) \n",
        "(**hint**: min, max)"
      ]
    },
    {
      "cell_type": "code",
      "execution_count": null,
      "metadata": {
        "id": "z57F1BonSfLt",
        "colab": {
          "base_uri": "https://localhost:8080/"
        },
        "outputId": "e06b2e2c-39a4-44c3-e39e-9c83a8a94f95"
      },
      "outputs": [
        {
          "output_type": "stream",
          "name": "stdout",
          "text": [
            "[[84 27 31 17  7 89  6 38 28 69]\n",
            " [85 34 61 62 94 26 99 96 68 39]\n",
            " [97 63 12 53 48 12 12 40 97 50]\n",
            " [18 19 52  3 92 18  7 40 60  9]\n",
            " [67 82 90 72 19 94 38 76 49 15]\n",
            " [21 49 86 16 55 73  6 27 49 83]\n",
            " [30 47 85 73 22  8  7 80 22 40]\n",
            " [19 67 71 35 96 80 35 11 46  1]\n",
            " [40 57 51 79 36  7 57 58 26  7]\n",
            " [ 9 25 23 60 73 29 96 71 63 76]]\n",
            "1\n",
            "99\n"
          ]
        }
      ],
      "source": [
        "j = np.random.randint(100,size=(10,10))\n",
        "print(j)\n",
        "print(np.min(j))\n",
        "print(np.max(j))"
      ]
    },
    {
      "cell_type": "markdown",
      "metadata": {
        "id": "Jsg5djaHSfLu"
      },
      "source": [
        "#### 14. Create a random vector of size 30 and find the mean value (★☆☆) \n",
        "(**hint**: mean)"
      ]
    },
    {
      "cell_type": "code",
      "execution_count": null,
      "metadata": {
        "id": "CtKMLZ7QSfLu",
        "colab": {
          "base_uri": "https://localhost:8080/"
        },
        "outputId": "9a4e5b19-805d-4582-ae5b-84794b58f2f9"
      },
      "outputs": [
        {
          "output_type": "stream",
          "name": "stdout",
          "text": [
            "[15 14 21  7 29  8  7 23 26  0 26 20  6 16 21  2  5 23 14 23  0 26 28  3\n",
            "  0  4 18 21  0 11]\n"
          ]
        },
        {
          "output_type": "execute_result",
          "data": {
            "text/plain": [
              "13.9"
            ]
          },
          "metadata": {},
          "execution_count": 32
        }
      ],
      "source": [
        "k = np.random.randint(30,size=(30))\n",
        "print(k)\n",
        "np.mean(k)"
      ]
    },
    {
      "cell_type": "markdown",
      "metadata": {
        "id": "2WqZtlHlSfLu"
      },
      "source": [
        "#### 15. Create a 2d array with 1 on the border and 0 inside (★☆☆) \n",
        "(**hint**: array\\[1:-1, 1:-1\\])"
      ]
    },
    {
      "cell_type": "code",
      "execution_count": null,
      "metadata": {
        "id": "ZTYNZOzJSfMH",
        "colab": {
          "base_uri": "https://localhost:8080/"
        },
        "outputId": "b5e4b737-eb49-4242-e372-5c9e872a6720"
      },
      "outputs": [
        {
          "output_type": "stream",
          "name": "stdout",
          "text": [
            "[[1. 1. 1. 1. 1. 1.]\n",
            " [1. 0. 0. 0. 0. 1.]\n",
            " [1. 0. 0. 0. 0. 1.]\n",
            " [1. 0. 0. 0. 0. 1.]\n",
            " [1. 0. 0. 0. 0. 1.]\n",
            " [1. 1. 1. 1. 1. 1.]]\n"
          ]
        }
      ],
      "source": [
        "l = np.ones((6,6))\n",
        "l[1:-1,1:-1]=0\n",
        "print(l)"
      ]
    },
    {
      "cell_type": "markdown",
      "metadata": {
        "id": "IZkVwbS2SfMJ"
      },
      "source": [
        "#### 16. How to add a border (filled with 0's) around an existing array? (★☆☆) \n",
        "(**hint**: np.pad)"
      ]
    },
    {
      "cell_type": "code",
      "execution_count": null,
      "metadata": {
        "id": "Mx_5dP8fSfML",
        "colab": {
          "base_uri": "https://localhost:8080/"
        },
        "outputId": "732a9202-11f4-4e5d-e10b-fdcb0dc9e7aa"
      },
      "outputs": [
        {
          "output_type": "execute_result",
          "data": {
            "text/plain": [
              "array([[0., 0., 0., 0., 0., 0., 0., 0.],\n",
              "       [0., 1., 1., 1., 1., 1., 1., 0.],\n",
              "       [0., 1., 1., 1., 1., 1., 1., 0.],\n",
              "       [0., 1., 1., 1., 1., 1., 1., 0.],\n",
              "       [0., 1., 1., 1., 1., 1., 1., 0.],\n",
              "       [0., 1., 1., 1., 1., 1., 1., 0.],\n",
              "       [0., 1., 1., 1., 1., 1., 1., 0.],\n",
              "       [0., 0., 0., 0., 0., 0., 0., 0.]])"
            ]
          },
          "metadata": {},
          "execution_count": 39
        }
      ],
      "source": [
        "m = np.ones((6,6))\n",
        "m = np.pad(m, pad_width=1, mode='constant', constant_values=0)\n",
        "m"
      ]
    },
    {
      "cell_type": "markdown",
      "metadata": {
        "id": "9d5Qf5cfSfMM"
      },
      "source": [
        "#### 17. What is the result of the following expression? (★☆☆) \n",
        "(**hint**: NaN = not a number, inf = infinity)"
      ]
    },
    {
      "cell_type": "markdown",
      "metadata": {
        "id": "Wm8nZGObSfMP"
      },
      "source": [
        "```python\n",
        "0 * np.nan\n",
        "np.nan == np.nan\n",
        "np.inf > np.nan\n",
        "np.nan - np.nan\n",
        "0.3 == 3 * 0.1\n",
        "```"
      ]
    },
    {
      "cell_type": "code",
      "execution_count": null,
      "metadata": {
        "id": "9joLn402SfMQ",
        "colab": {
          "base_uri": "https://localhost:8080/"
        },
        "outputId": "fdc0d005-5217-44c6-f92d-6624a37f4b53"
      },
      "outputs": [
        {
          "output_type": "stream",
          "name": "stdout",
          "text": [
            "nan\n",
            "False\n",
            "False\n",
            "nan\n",
            "False\n"
          ]
        }
      ],
      "source": [
        "print(0 * np.nan)\n",
        "print(np.nan == np.nan)\n",
        "print(np.inf > np.nan)\n",
        "print(np.nan - np.nan)\n",
        "print(0.3 == 3 * 0.1)\n",
        "\n"
      ]
    },
    {
      "cell_type": "markdown",
      "metadata": {
        "id": "9V6zzPUgSfMR"
      },
      "source": [
        "#### 18. Create a 5x5 matrix with values 1,2,3,4 just below the diagonal (★☆☆) \n",
        "(**hint**: np.diag)"
      ]
    },
    {
      "cell_type": "code",
      "execution_count": null,
      "metadata": {
        "id": "u18Mcx5pSfMS",
        "colab": {
          "base_uri": "https://localhost:8080/"
        },
        "outputId": "271bcddf-c16d-4efd-f37b-76a97864e4d5"
      },
      "outputs": [
        {
          "output_type": "execute_result",
          "data": {
            "text/plain": [
              "array([[0, 0, 0, 0, 0],\n",
              "       [0, 1, 0, 0, 0],\n",
              "       [0, 0, 2, 0, 0],\n",
              "       [0, 0, 0, 3, 0],\n",
              "       [0, 0, 0, 0, 4]])"
            ]
          },
          "metadata": {},
          "execution_count": 23
        }
      ],
      "source": [
        "n = np.diag([0,1,2,3,4])\n",
        "n"
      ]
    },
    {
      "cell_type": "markdown",
      "metadata": {
        "id": "b4yqxnkzSfMU"
      },
      "source": [
        "#### 19. Create a 8x8 matrix and fill it with a checkerboard pattern (★☆☆) \n",
        "(**hint**: array\\[::2\\])"
      ]
    },
    {
      "cell_type": "code",
      "execution_count": null,
      "metadata": {
        "id": "0Gp-wVGSSfMV",
        "colab": {
          "base_uri": "https://localhost:8080/"
        },
        "outputId": "2460443b-0492-4b01-9f62-dc03e3846c85"
      },
      "outputs": [
        {
          "output_type": "stream",
          "name": "stdout",
          "text": [
            "[[0 1 0 1 0 1 0 1]\n",
            " [1 0 1 0 1 0 1 0]\n",
            " [0 1 0 1 0 1 0 1]\n",
            " [1 0 1 0 1 0 1 0]\n",
            " [0 1 0 1 0 1 0 1]\n",
            " [1 0 1 0 1 0 1 0]\n",
            " [0 1 0 1 0 1 0 1]\n",
            " [1 0 1 0 1 0 1 0]]\n"
          ]
        }
      ],
      "source": [
        "x = np.zeros((8,8), dtype=int)\n",
        "x[1::2,::2] = 1\n",
        "x[::2,1::2] = 1\n",
        "print(x)"
      ]
    },
    {
      "cell_type": "markdown",
      "metadata": {
        "id": "XJ0Wb5OTSfMY"
      },
      "source": [
        "#### 20. Consider a (6,7,8) shape array, what is the index (x,y,z) of the 100th element? \n",
        "(**hint**: np.unravel_index)"
      ]
    },
    {
      "cell_type": "code",
      "execution_count": null,
      "metadata": {
        "id": "1SWyRlM8SfMZ",
        "colab": {
          "base_uri": "https://localhost:8080/"
        },
        "outputId": "23c2239f-5e10-4d48-d9cf-4dfb6e65f2d1"
      },
      "outputs": [
        {
          "output_type": "stream",
          "name": "stdout",
          "text": [
            "(1, 5, 3)\n"
          ]
        }
      ],
      "source": [
        "\n",
        "print(np.unravel_index(99,(6,7,8)))"
      ]
    },
    {
      "cell_type": "markdown",
      "metadata": {
        "id": "yniuWWc8SfMa"
      },
      "source": [
        "#### 21. Create a checkerboard 8x8 matrix using the tile function (★☆☆) \n",
        "(**hint**: np.tile)"
      ]
    },
    {
      "cell_type": "code",
      "execution_count": null,
      "metadata": {
        "id": "upqx3tZhSfMa",
        "colab": {
          "base_uri": "https://localhost:8080/"
        },
        "outputId": "63b7ff6d-2ab4-4f89-8391-51b60af8b318"
      },
      "outputs": [
        {
          "output_type": "execute_result",
          "data": {
            "text/plain": [
              "array([[0, 1, 0, 1, 0, 1, 0, 1],\n",
              "       [1, 0, 1, 0, 1, 0, 1, 0],\n",
              "       [0, 1, 0, 1, 0, 1, 0, 1],\n",
              "       [1, 0, 1, 0, 1, 0, 1, 0],\n",
              "       [0, 1, 0, 1, 0, 1, 0, 1],\n",
              "       [1, 0, 1, 0, 1, 0, 1, 0],\n",
              "       [0, 1, 0, 1, 0, 1, 0, 1],\n",
              "       [1, 0, 1, 0, 1, 0, 1, 0]])"
            ]
          },
          "metadata": {},
          "execution_count": 42
        }
      ],
      "source": [
        "x = np.tile(np.array(([0,1],[1,0])),(4,4))\n",
        "x"
      ]
    },
    {
      "cell_type": "markdown",
      "metadata": {
        "id": "TmWwn4bKSfMb"
      },
      "source": [
        "#### 22. Normalize a 5x5 random matrix (★☆☆) \n",
        "(**hint**: (x - min) / (max - min))"
      ]
    },
    {
      "cell_type": "code",
      "execution_count": null,
      "metadata": {
        "id": "vzbsyyPZSfMe",
        "colab": {
          "base_uri": "https://localhost:8080/"
        },
        "outputId": "031f6f05-5de9-42ad-a43b-4148f69b54c6"
      },
      "outputs": [
        {
          "output_type": "stream",
          "name": "stdout",
          "text": [
            "[[0.47854969 0.18643549 0.28023538 0.2295173  0.26986769]\n",
            " [0.34714782 0.7790165  0.05222949 0.6197439  0.12661072]\n",
            " [0.30561811 0.20290059 0.35249521 0.84897539 0.96812748]\n",
            " [0.92386479 0.76761391 0.02833336 0.13521104 0.15427385]\n",
            " [0.43880401 0.07608722 0.29428486 0.19950756 0.38708524]]\n",
            "[[0.47905846 0.1682306  0.26803958 0.21407235 0.25700771]\n",
            " [0.33923862 0.79877404 0.02542698 0.62929798 0.10457329]\n",
            " [0.2950484  0.18575051 0.34492858 0.87321469 1.        ]\n",
            " [0.95290172 0.78664096 0.         0.11372457 0.1340086 ]\n",
            " [0.43676657 0.05081311 0.28298911 0.1821401  0.38173455]]\n"
          ]
        }
      ],
      "source": [
        "v = np.random.random((5,5))\n",
        "print(v)\n",
        "vmin, vmax = v.min(),v.max()\n",
        "f = ((v-vmin)/(vmax-vmin))\n",
        "print(f)"
      ]
    },
    {
      "cell_type": "markdown",
      "metadata": {
        "id": "KBFizvwYSfMg"
      },
      "source": [
        "#### 23. Create a custom dtype that describes a color as four unsigned bytes (RGBA) (★☆☆) \n",
        "(**hint**: np.dtype)"
      ]
    },
    {
      "cell_type": "code",
      "execution_count": null,
      "metadata": {
        "collapsed": true,
        "id": "-Jdxq7VkSfMh",
        "colab": {
          "base_uri": "https://localhost:8080/"
        },
        "outputId": "156cecaf-f9eb-410c-a7aa-74d42a84fe52"
      },
      "outputs": [
        {
          "output_type": "execute_result",
          "data": {
            "text/plain": [
              "dtype([('R', 'u1'), ('G', 'u1'), ('B', 'u1'), ('A', 'u1')])"
            ]
          },
          "metadata": {},
          "execution_count": 54
        }
      ],
      "source": [
        "color = np.dtype([(\"R\", np.ubyte),\n",
        "                  (\"G\", np.ubyte),\n",
        "                  (\"B\", np.ubyte),\n",
        "                  (\"A\", np.ubyte)])\n",
        "color"
      ]
    },
    {
      "cell_type": "markdown",
      "metadata": {
        "id": "vVSdhpVBSfMi"
      },
      "source": [
        "#### 24. Multiply a 5x3 matrix by a 3x2 matrix (real matrix product) (★☆☆) \n",
        "(**hint**: np.dot | @)"
      ]
    },
    {
      "cell_type": "code",
      "execution_count": null,
      "metadata": {
        "id": "tOe-IJVwSfMm",
        "colab": {
          "base_uri": "https://localhost:8080/"
        },
        "outputId": "a05ba289-645b-412f-9e7b-2c0850c06ea2"
      },
      "outputs": [
        {
          "output_type": "stream",
          "name": "stdout",
          "text": [
            "[[ 1  2  3]\n",
            " [ 4  5  6]\n",
            " [ 7  8  9]\n",
            " [10 11 12]\n",
            " [13 14 15]]\n",
            "[[1 2]\n",
            " [3 4]\n",
            " [5 6]]\n",
            "[[ 22  28]\n",
            " [ 49  64]\n",
            " [ 76 100]\n",
            " [103 136]\n",
            " [130 172]]\n"
          ]
        },
        {
          "output_type": "execute_result",
          "data": {
            "text/plain": [
              "array([[ 22,  28],\n",
              "       [ 49,  64],\n",
              "       [ 76, 100],\n",
              "       [103, 136],\n",
              "       [130, 172]])"
            ]
          },
          "metadata": {},
          "execution_count": 65
        }
      ],
      "source": [
        "a = np.arange(1,16)\n",
        "d = a.reshape(5,3)\n",
        "print(d)\n",
        "b = np.arange(1,7)\n",
        "e = b.reshape(3,2)\n",
        "print(e)\n",
        "c = np.dot(d, e)\n",
        "print(c)\n",
        "f = d @ e\n",
        "f"
      ]
    },
    {
      "cell_type": "markdown",
      "metadata": {
        "id": "xzvkhDjISfMn"
      },
      "source": [
        "#### 25. Given a 1D array, negate all elements which are between 3 and 8, in place. (★☆☆) \n",
        "(**hint**: >, <=)"
      ]
    },
    {
      "cell_type": "code",
      "execution_count": null,
      "metadata": {
        "id": "p_pCWAtiSfMn",
        "colab": {
          "base_uri": "https://localhost:8080/"
        },
        "outputId": "044c9285-4719-4155-ecb4-b5931aa2c5d1"
      },
      "outputs": [
        {
          "output_type": "execute_result",
          "data": {
            "text/plain": [
              "array([ 0,  1,  2, -3, -4, -5, -6, -7, -8,  9, 10])"
            ]
          },
          "metadata": {},
          "execution_count": 70
        }
      ],
      "source": [
        "z = np.arange(11)\n",
        "z[3:9] = np.multiply(z[3:9],-1)\n",
        "z"
      ]
    },
    {
      "cell_type": "markdown",
      "metadata": {
        "id": "a5xQSs_5SfMo"
      },
      "source": [
        "#### 26. What is the output of the following script? (★☆☆) \n",
        "(**hint**: np.sum)"
      ]
    },
    {
      "cell_type": "markdown",
      "metadata": {
        "id": "chqPC7JJSfMp"
      },
      "source": [
        "```python\n",
        "# Author: Jake VanderPlas\n",
        "\n",
        "print(sum(range(5),-1))\n",
        "from numpy import *\n",
        "print(sum(range(5),-1))\n",
        "```"
      ]
    },
    {
      "cell_type": "code",
      "source": [
        "print(sum(range(5),-1))\n",
        "from numpy import *\n",
        "print(sum(range(5),-1))\n",
        "#please explain"
      ],
      "metadata": {
        "colab": {
          "base_uri": "https://localhost:8080/"
        },
        "id": "9xhffK0uEBI2",
        "outputId": "ea8b7138-cf0c-45f2-bf40-1bac2e0b222a"
      },
      "execution_count": null,
      "outputs": [
        {
          "output_type": "stream",
          "name": "stdout",
          "text": [
            "9\n",
            "10\n"
          ]
        }
      ]
    },
    {
      "cell_type": "markdown",
      "metadata": {
        "id": "6Ur4NsLdSfMq"
      },
      "source": [
        "#### 27. Consider an integer vector Z, which of these expressions are legal? (★☆☆)"
      ]
    },
    {
      "cell_type": "markdown",
      "metadata": {
        "id": "osS3C7aKSfMr"
      },
      "source": [
        "```python\n",
        "Z**Z\n",
        "2 << Z >> 2\n",
        "Z <- Z\n",
        "1j*Z\n",
        "Z/1/1\n",
        "Z<Z>Z\n",
        "```"
      ]
    },
    {
      "cell_type": "code",
      "source": [
        "Z = np.array(10)\n",
        "print(Z**Z)\n",
        "print(2 << Z >> 2)\n",
        "print(Z <- Z)\n",
        "print(1j*Z)\n",
        "print(Z/1/1)\n",
        "print(Z<Z>Z)"
      ],
      "metadata": {
        "colab": {
          "base_uri": "https://localhost:8080/"
        },
        "id": "07tFvgdYEIFl",
        "outputId": "65e06caa-0a8d-4163-b809-5d63cbfa786a"
      },
      "execution_count": null,
      "outputs": [
        {
          "output_type": "stream",
          "name": "stdout",
          "text": [
            "10000000000\n",
            "512\n",
            "False\n",
            "10j\n",
            "10.0\n",
            "False\n"
          ]
        }
      ]
    },
    {
      "cell_type": "markdown",
      "metadata": {
        "id": "yNxNbCikSfMs"
      },
      "source": [
        "#### 28. What are the result of the following expressions?"
      ]
    },
    {
      "cell_type": "markdown",
      "metadata": {
        "id": "EZwWNUFzSfMu"
      },
      "source": [
        "```python\n",
        "np.array(0) / np.array(0)\n",
        "np.array(0) // np.array(0)\n",
        "np.array([np.nan]).astype(int).astype(float)\n",
        "```"
      ]
    },
    {
      "cell_type": "code",
      "execution_count": null,
      "metadata": {
        "id": "FWN2I0JCSfMv",
        "colab": {
          "base_uri": "https://localhost:8080/"
        },
        "outputId": "2cf328de-b041-4099-dedb-9ee4eb96daac"
      },
      "outputs": [
        {
          "output_type": "stream",
          "name": "stdout",
          "text": [
            "nan\n",
            "0\n",
            "[-9.22337204e+18]\n"
          ]
        },
        {
          "output_type": "stream",
          "name": "stderr",
          "text": [
            "/usr/local/lib/python3.7/dist-packages/ipykernel_launcher.py:1: RuntimeWarning: invalid value encountered in true_divide\n",
            "  \"\"\"Entry point for launching an IPython kernel.\n",
            "/usr/local/lib/python3.7/dist-packages/ipykernel_launcher.py:2: RuntimeWarning: divide by zero encountered in floor_divide\n",
            "  \n"
          ]
        }
      ],
      "source": [
        "print(np.array(0) / np.array(0))\n",
        "print(np.array(0) // np.array(0))\n",
        "print(np.array([np.nan]).astype(int).astype(float))"
      ]
    },
    {
      "cell_type": "markdown",
      "metadata": {
        "id": "Sw86rIrASfMw"
      },
      "source": [
        "#### 29. How to round away from zero a float array ? (★☆☆) \n",
        "(**hint**: np.uniform, np.copysign, np.ceil, np.abs)"
      ]
    },
    {
      "cell_type": "code",
      "execution_count": null,
      "metadata": {
        "id": "bx26w6kESfMw",
        "colab": {
          "base_uri": "https://localhost:8080/"
        },
        "outputId": "42617763-0029-488a-a232-1828c22e2e9a"
      },
      "outputs": [
        {
          "output_type": "stream",
          "name": "stdout",
          "text": [
            "[-10. -23. -29.   1.  -5. -26. -26.  -1.   2.  -2.]\n"
          ]
        }
      ],
      "source": [
        "v = np.random.uniform(-30, +10, 10)\n",
        "print(np.copysign(np.ceil(np.abs(v)), v))"
      ]
    },
    {
      "cell_type": "markdown",
      "metadata": {
        "id": "Fc6e0MW7SfMx"
      },
      "source": [
        "#### 30. How to find common values between two arrays? (★☆☆) \n",
        "(**hint**: np.intersect1d)"
      ]
    },
    {
      "cell_type": "code",
      "execution_count": null,
      "metadata": {
        "id": "5y9lRd7QSfMy",
        "colab": {
          "base_uri": "https://localhost:8080/"
        },
        "outputId": "3a6bcbf8-af1e-4ec2-9918-164e34b69458"
      },
      "outputs": [
        {
          "output_type": "stream",
          "name": "stdout",
          "text": [
            "[3 4 1 2 9 3 5 1 9 4]\n",
            "[2 5 7 6 9 0 5 6 7 3]\n",
            "[2 3 5 9]\n"
          ]
        }
      ],
      "source": [
        "x = np.random.randint(0,10,10)\n",
        "print(x)\n",
        "z = np.random.randint(0,10,10)\n",
        "print(z)\n",
        "v = np.intersect1d(x,z)\n",
        "print(v)"
      ]
    },
    {
      "cell_type": "markdown",
      "metadata": {
        "id": "Ovk-9fD3SfM0"
      },
      "source": [
        "#### 31. How to ignore all numpy warnings (not recommended)? (★☆☆) \n",
        "(**hint**: np.seterr, np.errstate)"
      ]
    },
    {
      "cell_type": "code",
      "execution_count": null,
      "metadata": {
        "id": "k5whjYRnSfM0",
        "colab": {
          "base_uri": "https://localhost:8080/"
        },
        "outputId": "9564c099-eb40-418a-cf08-5ac986f419bf"
      },
      "outputs": [
        {
          "output_type": "stream",
          "name": "stdout",
          "text": [
            "[2 5 7 6 9 0 5 6 7 3]\n"
          ]
        },
        {
          "output_type": "execute_result",
          "data": {
            "text/plain": [
              "array([nan, inf, inf])"
            ]
          },
          "metadata": {},
          "execution_count": 24
        }
      ],
      "source": [
        "b = np.seterr(all='ignore')\n",
        "np.arange(3) / 0"
      ]
    },
    {
      "cell_type": "markdown",
      "metadata": {
        "id": "uJOdGu0RSfM1"
      },
      "source": [
        "#### 32. Is the following expressions true? (★☆☆) \n",
        "(**hint**: imaginary number)"
      ]
    },
    {
      "cell_type": "markdown",
      "metadata": {
        "id": "Kbe03NwASfM3"
      },
      "source": [
        "```python\n",
        "np.sqrt(-1) == np.emath.sqrt(-1)\n",
        "```"
      ]
    },
    {
      "cell_type": "code",
      "execution_count": null,
      "metadata": {
        "id": "QbUlG9LWSfM4",
        "colab": {
          "base_uri": "https://localhost:8080/"
        },
        "outputId": "791b084a-967a-465e-f00f-8e4c262684a4"
      },
      "outputs": [
        {
          "output_type": "execute_result",
          "data": {
            "text/plain": [
              "False"
            ]
          },
          "metadata": {},
          "execution_count": 25
        }
      ],
      "source": [
        "np.sqrt(-1) == np.emath.sqrt(-1)\n",
        "\n"
      ]
    },
    {
      "cell_type": "markdown",
      "metadata": {
        "id": "XRLel4jtSfM4"
      },
      "source": [
        "#### 33. How to get the dates of yesterday, today and tomorrow? (★☆☆) \n",
        "(**hint**: np.datetime64, np.timedelta64)"
      ]
    },
    {
      "cell_type": "code",
      "execution_count": null,
      "metadata": {
        "collapsed": true,
        "id": "SuSaHZv-SfM5",
        "colab": {
          "base_uri": "https://localhost:8080/"
        },
        "outputId": "af4a07df-5d45-4602-d7a6-0386c9375394"
      },
      "outputs": [
        {
          "output_type": "stream",
          "name": "stdout",
          "text": [
            "2022-05-13\n",
            "2022-05-14\n",
            "2022-05-15\n"
          ]
        }
      ],
      "source": [
        "yesterday = np.datetime64('today') - np.timedelta64(1)\n",
        "today     = np.datetime64('today')\n",
        "tomorrow  = np.datetime64('today') + np.timedelta64(1)\n",
        "print(yesterday)\n",
        "print(today)\n",
        "print(tomorrow)"
      ]
    },
    {
      "cell_type": "markdown",
      "metadata": {
        "id": "HnSf4nB2SfM5"
      },
      "source": [
        "#### 34. How to get all the dates corresponding to the month of July 2016? (★★☆) \n",
        "(**hint**: np.arange(dtype=datetime64\\['D'\\]))"
      ]
    },
    {
      "cell_type": "code",
      "execution_count": null,
      "metadata": {
        "id": "p4-WZR0HSfM6",
        "colab": {
          "base_uri": "https://localhost:8080/"
        },
        "outputId": "4995b9df-92f6-4cd5-d272-e1a9888bbcdb"
      },
      "outputs": [
        {
          "output_type": "stream",
          "name": "stdout",
          "text": [
            "['2016-07-01' '2016-07-02' '2016-07-03' '2016-07-04' '2016-07-05'\n",
            " '2016-07-06' '2016-07-07' '2016-07-08' '2016-07-09' '2016-07-10'\n",
            " '2016-07-11' '2016-07-12' '2016-07-13' '2016-07-14' '2016-07-15'\n",
            " '2016-07-16' '2016-07-17' '2016-07-18' '2016-07-19' '2016-07-20'\n",
            " '2016-07-21' '2016-07-22' '2016-07-23' '2016-07-24' '2016-07-25'\n",
            " '2016-07-26' '2016-07-27' '2016-07-28' '2016-07-29' '2016-07-30'\n",
            " '2016-07-31']\n"
          ]
        }
      ],
      "source": [
        "v = np.arange('2016-07', '2016-08', dtype='datetime64[D]')\n",
        "print(v)"
      ]
    },
    {
      "cell_type": "markdown",
      "metadata": {
        "id": "6W63H_qYSfM6"
      },
      "source": [
        "#### 35. How to compute ((A+B)\\*(-A/2)) in place (without copy)? (★★☆) \n",
        "(**hint**: np.add(out=), np.negative(out=), np.multiply(out=), np.divide(out=))"
      ]
    },
    {
      "cell_type": "code",
      "execution_count": null,
      "metadata": {
        "id": "DkpM5usGSfM7",
        "colab": {
          "base_uri": "https://localhost:8080/"
        },
        "outputId": "2bcb7a7a-a6fe-4753-b88e-ffb5c856c60d"
      },
      "outputs": [
        {
          "output_type": "stream",
          "name": "stdout",
          "text": [
            "[1. 1. 1.]\n",
            "[2. 2. 2.]\n"
          ]
        },
        {
          "output_type": "execute_result",
          "data": {
            "text/plain": [
              "array([-1.5, -1.5, -1.5])"
            ]
          },
          "metadata": {},
          "execution_count": 45
        }
      ],
      "source": [
        "A = np.ones(3)*1\n",
        "print(A)\n",
        "B = np.ones(3)*2\n",
        "print(B)\n",
        "np.add(A,B,out=B)\n",
        "np.divide(A,2,out=A)\n",
        "np.negative(A,out=A)\n",
        "np.multiply(A,B,out=A)"
      ]
    },
    {
      "cell_type": "markdown",
      "metadata": {
        "id": "tBOtP7LtSfM7"
      },
      "source": [
        "#### 36. Extract the integer part of a random array using 5 different methods (★★☆) \n",
        "(**hint**: %, np.floor, np.ceil, astype, np.trunc)"
      ]
    },
    {
      "cell_type": "code",
      "execution_count": null,
      "metadata": {
        "id": "0UwMhxRJSfM8",
        "colab": {
          "base_uri": "https://localhost:8080/"
        },
        "outputId": "7329e95c-bd1f-46fe-f3dd-f9239e8610e9"
      },
      "outputs": [
        {
          "output_type": "stream",
          "name": "stdout",
          "text": [
            "[4. 3. 3. 4. 3. 8. 5. 1. 5. 7.]\n",
            "[4. 3. 3. 4. 3. 8. 5. 1. 5. 7.]\n",
            "[4. 3. 3. 4. 3. 8. 5. 1. 5. 7.]\n",
            "[4 3 3 4 3 8 5 1 5 7]\n",
            "[4. 3. 3. 4. 3. 8. 5. 1. 5. 7.]\n"
          ]
        }
      ],
      "source": [
        "Z = np.random.uniform(0,10,10)\n",
        "print(Z-Z%1)\n",
        "print(np.ceil(Z)-1)\n",
        "print(np.floor(Z))\n",
        "print(Z.astype(int))\n",
        "print(np.trunc(Z))"
      ]
    },
    {
      "cell_type": "markdown",
      "metadata": {
        "id": "DXz3JgENSfM8"
      },
      "source": [
        "#### 37. Create a 5x5 matrix with row values ranging from 0 to 4 (★★☆) \n",
        "(**hint**: np.arange)"
      ]
    },
    {
      "cell_type": "code",
      "execution_count": null,
      "metadata": {
        "id": "7dj8tF0oSfM8",
        "colab": {
          "base_uri": "https://localhost:8080/"
        },
        "outputId": "d05a1f9e-2a7d-4d11-d3df-0f677458f22b"
      },
      "outputs": [
        {
          "output_type": "execute_result",
          "data": {
            "text/plain": [
              "array([[0., 1., 2., 3., 4.],\n",
              "       [0., 1., 2., 3., 4.],\n",
              "       [0., 1., 2., 3., 4.],\n",
              "       [0., 1., 2., 3., 4.],\n",
              "       [0., 1., 2., 3., 4.]])"
            ]
          },
          "metadata": {},
          "execution_count": 54
        }
      ],
      "source": [
        "v = np.zeros((5,5))\n",
        "v += np.arange(5)\n",
        "v"
      ]
    },
    {
      "cell_type": "markdown",
      "metadata": {
        "id": "58j_F9oJSfM8"
      },
      "source": [
        "#### 38. Consider a generator function that generates 10 integers and use it to build an array (★☆☆) \n",
        "(**hint**: np.fromiter)"
      ]
    },
    {
      "cell_type": "code",
      "execution_count": null,
      "metadata": {
        "id": "UwMyWaJZSfM9",
        "colab": {
          "base_uri": "https://localhost:8080/"
        },
        "outputId": "ba50d0ac-7901-4c24-ffd0-0bba248f7a77"
      },
      "outputs": [
        {
          "output_type": "execute_result",
          "data": {
            "text/plain": [
              "array([0, 1, 2, 3, 4, 5, 6, 7, 8, 9])"
            ]
          },
          "metadata": {},
          "execution_count": 62
        }
      ],
      "source": [
        "def generator():\n",
        "  for i in range(10):\n",
        "    yield i\n",
        "v = np.fromiter(generator(),dtype=int,count=-1)\n",
        "v"
      ]
    },
    {
      "cell_type": "markdown",
      "metadata": {
        "id": "-9UYyqgUSfM-"
      },
      "source": [
        "#### 39. Create a vector of size 10 with values ranging from 0 to 1, both excluded (★★☆) \n",
        "(**hint**: np.linspace)"
      ]
    },
    {
      "cell_type": "code",
      "execution_count": null,
      "metadata": {
        "id": "abXKCQPySfM-",
        "colab": {
          "base_uri": "https://localhost:8080/"
        },
        "outputId": "41ddd48d-c621-4793-912a-e59adb8a16ca"
      },
      "outputs": [
        {
          "output_type": "execute_result",
          "data": {
            "text/plain": [
              "array([0.        , 0.11111111, 0.22222222, 0.33333333, 0.44444444,\n",
              "       0.55555556, 0.66666667, 0.77777778, 0.88888889, 1.        ])"
            ]
          },
          "metadata": {},
          "execution_count": 63
        }
      ],
      "source": [
        "v = np.linspace(0,1,10)\n",
        "v"
      ]
    },
    {
      "cell_type": "markdown",
      "metadata": {
        "id": "QBnY6CwKSfM-"
      },
      "source": [
        "#### 40. Create a random vector of size 10 and sort it (★★☆) \n",
        "(**hint**: sort)"
      ]
    },
    {
      "cell_type": "code",
      "execution_count": null,
      "metadata": {
        "id": "iCp5yqy8SfM_",
        "colab": {
          "base_uri": "https://localhost:8080/"
        },
        "outputId": "a7cead7e-b993-4ab0-c84a-d1163e0a339b"
      },
      "outputs": [
        {
          "output_type": "execute_result",
          "data": {
            "text/plain": [
              "array([0, 2, 2, 3, 6, 7, 8, 8, 9, 9])"
            ]
          },
          "metadata": {},
          "execution_count": 67
        }
      ],
      "source": [
        "v = np.random.randint(10, size=(10))\n",
        "v.sort()\n",
        "v\n"
      ]
    },
    {
      "cell_type": "markdown",
      "metadata": {
        "id": "uHoW-wxuSfM_"
      },
      "source": [
        "#### 41. How to sum a small array faster than np.sum? (★★☆) \n",
        "(**hint**: np.add.reduce)"
      ]
    },
    {
      "cell_type": "code",
      "execution_count": null,
      "metadata": {
        "id": "5aB_TNuSSfNA",
        "colab": {
          "base_uri": "https://localhost:8080/"
        },
        "outputId": "de3736f0-2131-4147-8b27-c9a7115ce915"
      },
      "outputs": [
        {
          "output_type": "stream",
          "name": "stdout",
          "text": [
            "[0 1 2 3 4 5 6 7 8 9]\n"
          ]
        },
        {
          "output_type": "execute_result",
          "data": {
            "text/plain": [
              "45"
            ]
          },
          "metadata": {},
          "execution_count": 69
        }
      ],
      "source": [
        "v = np.arange(10)\n",
        "print(v)\n",
        "np.add.reduce(v)"
      ]
    },
    {
      "cell_type": "markdown",
      "metadata": {
        "id": "Nuu0WcprSfNA"
      },
      "source": [
        "#### 42. Consider two random array A and B, check if they are equal (★★☆) \n",
        "(**hint**: np.allclose, np.array\\_equal)"
      ]
    },
    {
      "cell_type": "code",
      "execution_count": null,
      "metadata": {
        "id": "t5WAjMm9SfNB",
        "colab": {
          "base_uri": "https://localhost:8080/"
        },
        "outputId": "e385bdc7-f6b0-41d8-9a45-dddf3fb7e8f8"
      },
      "outputs": [
        {
          "output_type": "stream",
          "name": "stdout",
          "text": [
            "[0 1 2 3 4 5 6 7 8 9]\n",
            "[0 1 2 3 4 5 6 7 8 9]\n",
            "True\n",
            "[8 8 5 4 4]\n",
            "[3 0 2 5 1]\n",
            "False\n"
          ]
        }
      ],
      "source": [
        "b = np.arange(10)\n",
        "print(b)\n",
        "c = np.arange(10)\n",
        "print(c)\n",
        "v = np.array_equal(b,c)\n",
        "print(v)\n",
        "a = np.random.randint(0,10,5)\n",
        "print(a)\n",
        "b = np.random.randint(0,10,5)\n",
        "print(b)\n",
        "g = np.allclose(a,b)\n",
        "print(g)"
      ]
    },
    {
      "cell_type": "markdown",
      "metadata": {
        "id": "JhUXfuIVSfNC"
      },
      "source": [
        "#### 43. Make an array immutable (read-only) (★★☆) \n",
        "(**hint**: flags.writeable)"
      ]
    },
    {
      "cell_type": "code",
      "execution_count": null,
      "metadata": {
        "id": "r8Ag8hiPSfND",
        "colab": {
          "base_uri": "https://localhost:8080/",
          "height": 205
        },
        "outputId": "9df46ab2-be9b-4dfd-a928-c43f21f5d618"
      },
      "outputs": [
        {
          "output_type": "error",
          "ename": "ValueError",
          "evalue": "ignored",
          "traceback": [
            "\u001b[0;31m---------------------------------------------------------------------------\u001b[0m",
            "\u001b[0;31mValueError\u001b[0m                                Traceback (most recent call last)",
            "\u001b[0;32m<ipython-input-78-50d3306bb5ff>\u001b[0m in \u001b[0;36m<module>\u001b[0;34m()\u001b[0m\n\u001b[1;32m      1\u001b[0m \u001b[0mx\u001b[0m \u001b[0;34m=\u001b[0m \u001b[0mnp\u001b[0m\u001b[0;34m.\u001b[0m\u001b[0mzeros\u001b[0m\u001b[0;34m(\u001b[0m\u001b[0;36m10\u001b[0m\u001b[0;34m)\u001b[0m\u001b[0;34m\u001b[0m\u001b[0;34m\u001b[0m\u001b[0m\n\u001b[1;32m      2\u001b[0m \u001b[0mx\u001b[0m\u001b[0;34m.\u001b[0m\u001b[0mflags\u001b[0m\u001b[0;34m.\u001b[0m\u001b[0mwriteable\u001b[0m \u001b[0;34m=\u001b[0m \u001b[0;32mFalse\u001b[0m\u001b[0;34m\u001b[0m\u001b[0;34m\u001b[0m\u001b[0m\n\u001b[0;32m----> 3\u001b[0;31m \u001b[0mx\u001b[0m\u001b[0;34m[\u001b[0m\u001b[0;36m0\u001b[0m\u001b[0;34m]\u001b[0m \u001b[0;34m=\u001b[0m \u001b[0;36m1\u001b[0m\u001b[0;34m\u001b[0m\u001b[0;34m\u001b[0m\u001b[0m\n\u001b[0m",
            "\u001b[0;31mValueError\u001b[0m: assignment destination is read-only"
          ]
        }
      ],
      "source": [
        "x = np.zeros(10)\n",
        "x.flags.writeable = False\n",
        "x[0] = 1"
      ]
    },
    {
      "cell_type": "markdown",
      "metadata": {
        "id": "GVY2azqYSfNE"
      },
      "source": [
        "#### 44. Consider a random 10x2 matrix representing cartesian coordinates, convert them to polar coordinates (★★☆) \n",
        "(**hint**: np.sqrt, np.arctan2)"
      ]
    },
    {
      "cell_type": "code",
      "execution_count": null,
      "metadata": {
        "id": "wP9UkiWNSfNF",
        "colab": {
          "base_uri": "https://localhost:8080/"
        },
        "outputId": "a869393c-2e2a-4be8-8ded-6126f5b58eda"
      },
      "outputs": [
        {
          "output_type": "stream",
          "name": "stdout",
          "text": [
            "[0.12859842 1.09355408 1.16378876 0.05277345 0.44149737 1.14491938\n",
            " 0.80845046 0.86565302 1.23911908 1.03233439]\n",
            "[0.83747951 0.8823816  1.02090162 0.79862581 1.0654333  0.82304177\n",
            " 0.85867379 0.31497117 0.78632957 1.2590713 ]\n"
          ]
        }
      ],
      "source": [
        "z= np.random.random((10,2))\n",
        "x,y = z[:,0], z[:,1]\n",
        "r = np.sqrt(x**2+y**2)\n",
        "t = np.arctan2(y,x)\n",
        "print(r)\n",
        "print(t)"
      ]
    },
    {
      "cell_type": "markdown",
      "metadata": {
        "id": "YctzLT50SfNG"
      },
      "source": [
        "#### 45. Create random vector of size 10 and replace the maximum value by 0 (★★☆) \n",
        "(**hint**: argmax)"
      ]
    },
    {
      "cell_type": "code",
      "execution_count": null,
      "metadata": {
        "id": "Km5ILupdSfNH",
        "colab": {
          "base_uri": "https://localhost:8080/"
        },
        "outputId": "5a1e8a6c-a606-4061-b155-3190aa741499"
      },
      "outputs": [
        {
          "output_type": "stream",
          "name": "stdout",
          "text": [
            "[0.09393241 0.91924249 0.60442056 0.05626841 0.29726001 0.0414604\n",
            " 0.         0.8474471  0.22313462 0.78422888]\n"
          ]
        }
      ],
      "source": [
        "Z = np.random.random(10)\n",
        "Z[Z.argmax()] = 0\n",
        "print(Z)"
      ]
    },
    {
      "cell_type": "markdown",
      "metadata": {
        "id": "tg0goQydSfNH"
      },
      "source": [
        "#### 46. Create a structured array with `x` and `y` coordinates covering the \\[0,1\\]x\\[0,1\\] area (★★☆) \n",
        "(**hint**: np.meshgrid)"
      ]
    },
    {
      "cell_type": "code",
      "execution_count": null,
      "metadata": {
        "id": "2tHelmfqSfNJ",
        "colab": {
          "base_uri": "https://localhost:8080/"
        },
        "outputId": "a5ab185b-8962-4bc8-d87e-eca27503325d"
      },
      "outputs": [
        {
          "output_type": "stream",
          "name": "stdout",
          "text": [
            "[[(0.  , 0.  ) (0.25, 0.  ) (0.5 , 0.  ) (0.75, 0.  ) (1.  , 0.  )]\n",
            " [(0.  , 0.25) (0.25, 0.25) (0.5 , 0.25) (0.75, 0.25) (1.  , 0.25)]\n",
            " [(0.  , 0.5 ) (0.25, 0.5 ) (0.5 , 0.5 ) (0.75, 0.5 ) (1.  , 0.5 )]\n",
            " [(0.  , 0.75) (0.25, 0.75) (0.5 , 0.75) (0.75, 0.75) (1.  , 0.75)]\n",
            " [(0.  , 1.  ) (0.25, 1.  ) (0.5 , 1.  ) (0.75, 1.  ) (1.  , 1.  )]]\n"
          ]
        }
      ],
      "source": [
        "Z = np.zeros((5,5), [('x',float),('y',float)])\n",
        "Z['x'], Z['y'] = np.meshgrid(np.linspace(0,1,5),\n",
        "                             np.linspace(0,1,5))\n",
        "print(Z)"
      ]
    },
    {
      "cell_type": "markdown",
      "metadata": {
        "id": "Js4IWCfQSfNM"
      },
      "source": [
        "####  47. Given two arrays, X and Y, construct the Cauchy matrix C (Cij =1/(xi - yj)) \n",
        "(**hint**: np.subtract.outer)"
      ]
    },
    {
      "cell_type": "code",
      "execution_count": null,
      "metadata": {
        "id": "wmXfTBPsSfNN",
        "colab": {
          "base_uri": "https://localhost:8080/"
        },
        "outputId": "668a43d9-bc9f-41e3-bca0-3cbe080af1cf"
      },
      "outputs": [
        {
          "output_type": "stream",
          "name": "stdout",
          "text": [
            "3638.163637117973\n"
          ]
        }
      ],
      "source": [
        "X = np.arange(8)\n",
        "Y = X + 0.5\n",
        "C = 1.0 / np.subtract.outer(X, Y)\n",
        "print(np.linalg.det(C))"
      ]
    },
    {
      "cell_type": "markdown",
      "metadata": {
        "id": "4lFGriKRSfNO"
      },
      "source": [
        "#### 48. Print the minimum and maximum representable value for each numpy scalar type (★★☆) \n",
        "(**hint**: np.iinfo, np.finfo, eps)"
      ]
    },
    {
      "cell_type": "code",
      "execution_count": null,
      "metadata": {
        "id": "ru7YRk0LSfNO",
        "colab": {
          "base_uri": "https://localhost:8080/"
        },
        "outputId": "5a9c1fcf-606a-4f92-ea72-a30009da8113"
      },
      "outputs": [
        {
          "output_type": "stream",
          "name": "stdout",
          "text": [
            "-128\n",
            "127\n",
            "-2147483648\n",
            "2147483647\n",
            "-9223372036854775808\n",
            "9223372036854775807\n",
            "-3.4028235e+38\n",
            "3.4028235e+38\n",
            "1.1920929e-07\n",
            "-1.7976931348623157e+308\n",
            "1.7976931348623157e+308\n",
            "2.220446049250313e-16\n"
          ]
        }
      ],
      "source": [
        "for dtype in [np.int8, np.int32, np.int64]:\n",
        "   print(np.iinfo(dtype).min)\n",
        "   print(np.iinfo(dtype).max)\n",
        "for dtype in [np.float32, np.float64]:\n",
        "   print(np.finfo(dtype).min)\n",
        "   print(np.finfo(dtype).max)\n",
        "   print(np.finfo(dtype).eps)"
      ]
    },
    {
      "cell_type": "markdown",
      "metadata": {
        "id": "kO47nmcKSfNP"
      },
      "source": [
        "#### 49. How to print all the values of an array? (★★☆) \n",
        "(**hint**: np.set\\_printoptions)"
      ]
    },
    {
      "cell_type": "code",
      "execution_count": null,
      "metadata": {
        "id": "1moiLSd8SfNQ",
        "colab": {
          "base_uri": "https://localhost:8080/"
        },
        "outputId": "190b7700-2a99-4700-e941-a6d72aced534"
      },
      "outputs": [
        {
          "output_type": "stream",
          "name": "stdout",
          "text": [
            "[[1. 1. 1. 1.]\n",
            " [1. 1. 1. 1.]\n",
            " [1. 1. 1. 1.]\n",
            " [1. 1. 1. 1.]]\n"
          ]
        }
      ],
      "source": [
        "np.set_printoptions(threshold=float(\"inf\"))\n",
        "Z = np.ones((4,4))\n",
        "print(Z)"
      ]
    },
    {
      "cell_type": "markdown",
      "metadata": {
        "id": "3MhGKjmZSfNR"
      },
      "source": [
        "#### 50. How to find the closest value (to a given scalar) in a vector? (★★☆) \n",
        "(**hint**: argmin)"
      ]
    },
    {
      "cell_type": "code",
      "execution_count": null,
      "metadata": {
        "id": "d_nvpVcTSfNR",
        "colab": {
          "base_uri": "https://localhost:8080/"
        },
        "outputId": "8cac9679-432f-49aa-dd32-4fb63c8658b1"
      },
      "outputs": [
        {
          "output_type": "stream",
          "name": "stdout",
          "text": [
            "98\n"
          ]
        }
      ],
      "source": [
        "z = np.arange(100)\n",
        "v = np.random.uniform(0,100)\n",
        "x = (np.abs(z-v)).argmin()\n",
        "print(z[x])"
      ]
    },
    {
      "cell_type": "markdown",
      "metadata": {
        "id": "_x_8MPRxSfNW"
      },
      "source": [
        "#### 51. Create a structured array representing a position (x,y) and a color (r,g,b) (★★☆) \n",
        "(**hint**: dtype)"
      ]
    },
    {
      "cell_type": "code",
      "execution_count": 5,
      "metadata": {
        "id": "QChRIsDnSfNX",
        "colab": {
          "base_uri": "https://localhost:8080/"
        },
        "outputId": "be8b52e6-7d92-44f1-db4c-883e684930a5"
      },
      "outputs": [
        {
          "output_type": "stream",
          "name": "stdout",
          "text": [
            "[((0., 0.), (0., 0., 0.)) ((0., 0.), (0., 0., 0.))\n",
            " ((0., 0.), (0., 0., 0.)) ((0., 0.), (0., 0., 0.))\n",
            " ((0., 0.), (0., 0., 0.)) ((0., 0.), (0., 0., 0.))\n",
            " ((0., 0.), (0., 0., 0.)) ((0., 0.), (0., 0., 0.))\n",
            " ((0., 0.), (0., 0., 0.)) ((0., 0.), (0., 0., 0.))]\n"
          ]
        },
        {
          "output_type": "stream",
          "name": "stderr",
          "text": [
            "/usr/local/lib/python3.7/dist-packages/ipykernel_launcher.py:5: FutureWarning: Passing (type, 1) or '1type' as a synonym of type is deprecated; in a future version of numpy, it will be understood as (type, (1,)) / '(1,)type'.\n",
            "  \"\"\"\n"
          ]
        }
      ],
      "source": [
        "v = np.zeros(10, [ ('position', [ ('x', float, 1),\n",
        "                                  ('y', float, 1)]),\n",
        "                   ('color',    [ ('r', float, 1),\n",
        "                                  ('g', float, 1),\n",
        "                                  ('b', float, 1)])])\n",
        "print(v)"
      ]
    },
    {
      "cell_type": "markdown",
      "metadata": {
        "id": "aHSrxDA1SfNY"
      },
      "source": [
        "#### 52. Consider a random vector with shape (100,2) representing coordinates, find point by point distances (★★☆) \n",
        "(**hint**: np.atleast\\_2d, T, np.sqrt)"
      ]
    },
    {
      "cell_type": "code",
      "execution_count": 6,
      "metadata": {
        "id": "oJLvh7TaSfNZ",
        "colab": {
          "base_uri": "https://localhost:8080/"
        },
        "outputId": "d70311fa-627b-4a70-9dcd-56df6fcc00db"
      },
      "outputs": [
        {
          "output_type": "stream",
          "name": "stdout",
          "text": [
            "[[0.         0.59237271 1.04754775 0.6270916  0.93107167 0.91248751\n",
            "  0.13882405 1.03278479 0.18639889 0.49523696]\n",
            " [0.59237271 0.         0.83922682 0.8824639  0.85115897 0.91379308\n",
            "  0.57769907 0.81812435 0.45312761 0.14672594]\n",
            " [1.04754775 0.83922682 0.         0.69051689 0.2116259  0.33473264\n",
            "  0.92248817 0.02158837 0.87206956 0.75214598]\n",
            " [0.6270916  0.8824639  0.69051689 0.         0.49106241 0.40113346\n",
            "  0.49468482 0.68773541 0.54961117 0.73587266]\n",
            " [0.93107167 0.85115897 0.2116259  0.49106241 0.         0.12609599\n",
            "  0.79691943 0.21571039 0.77179582 0.73594682]\n",
            " [0.91248751 0.91379308 0.33473264 0.40113346 0.12609599 0.\n",
            "  0.77456176 0.34057385 0.76937903 0.78722428]\n",
            " [0.13882405 0.57769907 0.92248817 0.49468482 0.79691943 0.77456176\n",
            "  0.         0.90874336 0.12458236 0.45564365]\n",
            " [1.03278479 0.81812435 0.02158837 0.68773541 0.21571039 0.34057385\n",
            "  0.90874336 0.         0.8563172  0.73197015]\n",
            " [0.18639889 0.45312761 0.87206956 0.54961117 0.77179582 0.76937903\n",
            "  0.12458236 0.8563172  0.         0.33290969]\n",
            " [0.49523696 0.14672594 0.75214598 0.73587266 0.73594682 0.78722428\n",
            "  0.45564365 0.73197015 0.33290969 0.        ]]\n"
          ]
        }
      ],
      "source": [
        "x = np.random.random((10,2))\n",
        "v,i = np.atleast_2d(x[:,0], x[:,1])\n",
        "D = np.sqrt( (v-v.T)**2 + (i-i.T)**2)\n",
        "print(D)"
      ]
    },
    {
      "cell_type": "markdown",
      "metadata": {
        "id": "47gBZ-1FSfNZ"
      },
      "source": [
        "#### 53. How to convert a float (32 bits) array into an integer (32 bits) in place? \n",
        "(**hint**: astype(copy=False))"
      ]
    },
    {
      "cell_type": "code",
      "execution_count": 7,
      "metadata": {
        "id": "YhH0_1XDSfNa",
        "colab": {
          "base_uri": "https://localhost:8080/"
        },
        "outputId": "c9fb968e-18cb-4e36-8492-effe0e2fb05b"
      },
      "outputs": [
        {
          "output_type": "stream",
          "name": "stdout",
          "text": [
            "[16 37 50 83 60 47 64 22 81  2]\n"
          ]
        }
      ],
      "source": [
        "Z = (np.random.rand(10)*100).astype(np.float32)\n",
        "Y = Z.view(np.int32)\n",
        "Y[:] = Z\n",
        "print(Y)"
      ]
    },
    {
      "cell_type": "markdown",
      "metadata": {
        "id": "lU8vwz2cSfNb"
      },
      "source": [
        "#### 54. How to read the following file? (★★☆) \n",
        "(**hint**: np.genfromtxt)"
      ]
    },
    {
      "cell_type": "markdown",
      "metadata": {
        "id": "klY_E73LSfNc"
      },
      "source": [
        "```\n",
        "1, 2, 3, 4, 5\n",
        "6,  ,  , 7, 8\n",
        " ,  , 9,10,11\n",
        "```"
      ]
    },
    {
      "cell_type": "code",
      "execution_count": 8,
      "metadata": {
        "id": "P_WSTY9ASfNe",
        "colab": {
          "base_uri": "https://localhost:8080/"
        },
        "outputId": "af4810d8-da87-4013-976a-5097d175bfe4"
      },
      "outputs": [
        {
          "output_type": "stream",
          "name": "stdout",
          "text": [
            "[[ 1  2  3  4  5]\n",
            " [ 6 -1 -1  7  8]\n",
            " [-1 -1  9 10 11]]\n"
          ]
        },
        {
          "output_type": "stream",
          "name": "stderr",
          "text": [
            "/usr/local/lib/python3.7/dist-packages/ipykernel_launcher.py:8: DeprecationWarning: `np.int` is a deprecated alias for the builtin `int`. To silence this warning, use `int` by itself. Doing this will not modify any behavior and is safe. When replacing `np.int`, you may wish to use e.g. `np.int64` or `np.int32` to specify the precision. If you wish to review your current use, check the release note link for additional information.\n",
            "Deprecated in NumPy 1.20; for more details and guidance: https://numpy.org/devdocs/release/1.20.0-notes.html#deprecations\n",
            "  \n"
          ]
        }
      ],
      "source": [
        "from io import StringIO\n",
        "s = StringIO('''1, 2, 3, 4, 5\n",
        "                6,  ,  , 7, 8\n",
        "                 ,  , 9,10,11\n",
        "''')\n",
        "Z = np.genfromtxt(s, delimiter=\",\", dtype=np.int)\n",
        "print(Z)"
      ]
    },
    {
      "cell_type": "markdown",
      "metadata": {
        "id": "QPztCmX6SfNg"
      },
      "source": [
        "#### 55. What is the equivalent of enumerate for numpy arrays? (★★☆) \n",
        "(**hint**: np.ndenumerate, np.ndindex)"
      ]
    },
    {
      "cell_type": "code",
      "execution_count": 9,
      "metadata": {
        "id": "1Rxqn8ELSfNh",
        "colab": {
          "base_uri": "https://localhost:8080/"
        },
        "outputId": "6f170f08-6e60-4864-e9cd-45c7f92958db"
      },
      "outputs": [
        {
          "output_type": "stream",
          "name": "stdout",
          "text": [
            "(0, 0) 0\n",
            "(0, 1) 1\n",
            "(0, 2) 2\n",
            "(1, 0) 3\n",
            "(1, 1) 4\n",
            "(1, 2) 5\n",
            "(2, 0) 6\n",
            "(2, 1) 7\n",
            "(2, 2) 8\n",
            "(0, 0) 0\n",
            "(0, 1) 1\n",
            "(0, 2) 2\n",
            "(1, 0) 3\n",
            "(1, 1) 4\n",
            "(1, 2) 5\n",
            "(2, 0) 6\n",
            "(2, 1) 7\n",
            "(2, 2) 8\n"
          ]
        }
      ],
      "source": [
        "Z = np.arange(9).reshape(3,3)\n",
        "for index, value in np.ndenumerate(Z):\n",
        "    print(index, value)\n",
        "for index in np.ndindex(Z.shape):\n",
        "    print(index, Z[index])"
      ]
    },
    {
      "cell_type": "markdown",
      "metadata": {
        "id": "rqA9Hle4SfNi"
      },
      "source": [
        "#### 56. Generate a generic 2D Gaussian-like array (★★☆) \n",
        "(**hint**: np.meshgrid, np.exp)"
      ]
    },
    {
      "cell_type": "code",
      "execution_count": 10,
      "metadata": {
        "id": "dp49qEfaSfNk",
        "colab": {
          "base_uri": "https://localhost:8080/"
        },
        "outputId": "8573b10f-2144-41ea-aecc-407fe39f4215"
      },
      "outputs": [
        {
          "output_type": "stream",
          "name": "stdout",
          "text": [
            "[[0.36787944 0.44822088 0.51979489 0.57375342 0.60279818 0.60279818\n",
            "  0.57375342 0.51979489 0.44822088 0.36787944]\n",
            " [0.44822088 0.54610814 0.63331324 0.69905581 0.73444367 0.73444367\n",
            "  0.69905581 0.63331324 0.54610814 0.44822088]\n",
            " [0.51979489 0.63331324 0.73444367 0.81068432 0.85172308 0.85172308\n",
            "  0.81068432 0.73444367 0.63331324 0.51979489]\n",
            " [0.57375342 0.69905581 0.81068432 0.89483932 0.9401382  0.9401382\n",
            "  0.89483932 0.81068432 0.69905581 0.57375342]\n",
            " [0.60279818 0.73444367 0.85172308 0.9401382  0.98773022 0.98773022\n",
            "  0.9401382  0.85172308 0.73444367 0.60279818]\n",
            " [0.60279818 0.73444367 0.85172308 0.9401382  0.98773022 0.98773022\n",
            "  0.9401382  0.85172308 0.73444367 0.60279818]\n",
            " [0.57375342 0.69905581 0.81068432 0.89483932 0.9401382  0.9401382\n",
            "  0.89483932 0.81068432 0.69905581 0.57375342]\n",
            " [0.51979489 0.63331324 0.73444367 0.81068432 0.85172308 0.85172308\n",
            "  0.81068432 0.73444367 0.63331324 0.51979489]\n",
            " [0.44822088 0.54610814 0.63331324 0.69905581 0.73444367 0.73444367\n",
            "  0.69905581 0.63331324 0.54610814 0.44822088]\n",
            " [0.36787944 0.44822088 0.51979489 0.57375342 0.60279818 0.60279818\n",
            "  0.57375342 0.51979489 0.44822088 0.36787944]]\n"
          ]
        }
      ],
      "source": [
        "X, Y = np.meshgrid(np.linspace(-1,1,10), np.linspace(-1,1,10))\n",
        "D = np.sqrt(X*X+Y*Y)\n",
        "sigma, mu = 1.0, 0.0\n",
        "G = np.exp(-( (D-mu)**2 / ( 2.0 * sigma**2 ) ) )\n",
        "print(G)"
      ]
    },
    {
      "cell_type": "markdown",
      "metadata": {
        "id": "tp256ZrdSfNm"
      },
      "source": [
        "#### 57. How to randomly place p elements in a 2D array? (★★☆) \n",
        "(**hint**: np.put, np.random.choice)"
      ]
    },
    {
      "cell_type": "code",
      "execution_count": 11,
      "metadata": {
        "id": "d8HKonJpSfNm",
        "colab": {
          "base_uri": "https://localhost:8080/"
        },
        "outputId": "3933b767-0c1b-4354-8c4d-af8ba879dbe7"
      },
      "outputs": [
        {
          "output_type": "stream",
          "name": "stdout",
          "text": [
            "[[0. 0. 0. 0. 0. 0. 0. 0. 0. 0.]\n",
            " [0. 0. 0. 0. 0. 0. 0. 0. 0. 0.]\n",
            " [0. 0. 1. 0. 0. 0. 0. 0. 0. 0.]\n",
            " [0. 0. 0. 0. 0. 0. 0. 0. 0. 0.]\n",
            " [0. 0. 0. 0. 0. 0. 0. 0. 0. 0.]\n",
            " [0. 0. 0. 0. 0. 0. 0. 0. 0. 0.]\n",
            " [0. 0. 0. 0. 0. 0. 0. 0. 0. 0.]\n",
            " [1. 0. 0. 0. 0. 0. 0. 0. 0. 0.]\n",
            " [0. 0. 0. 0. 0. 0. 0. 0. 0. 0.]\n",
            " [0. 0. 0. 0. 0. 0. 0. 0. 1. 0.]]\n"
          ]
        }
      ],
      "source": [
        "n = 10\n",
        "p = 3\n",
        "Z = np.zeros((n,n))\n",
        "np.put(Z, np.random.choice(range(n*n), p, replace=False),1)\n",
        "print(Z)"
      ]
    },
    {
      "cell_type": "markdown",
      "metadata": {
        "id": "H_QFd_U6SfNo"
      },
      "source": [
        "#### 58. Subtract the mean of each row of a matrix (★★☆) \n",
        "(**hint**: mean(axis=,keepdims=))"
      ]
    },
    {
      "cell_type": "code",
      "execution_count": 12,
      "metadata": {
        "id": "4WwWVg1TSfNo",
        "colab": {
          "base_uri": "https://localhost:8080/"
        },
        "outputId": "97d82c01-283e-4aab-fecb-f1d9c0f91368"
      },
      "outputs": [
        {
          "output_type": "stream",
          "name": "stdout",
          "text": [
            "[[-0.23668731  0.17438973 -0.31689814  0.06783379  0.18916761  0.04583115\n",
            "  -0.15533164 -0.02015363  0.05432406  0.19752439]\n",
            " [-0.08153434 -0.23128365 -0.08607525  0.33734975  0.2929381  -0.40032396\n",
            "  -0.44340223  0.3356509   0.13796726  0.1387134 ]\n",
            " [-0.29273037 -0.22450409  0.19014718 -0.53108362 -0.36491278  0.1964516\n",
            "   0.35720725 -0.0782474   0.40589323  0.341779  ]\n",
            " [-0.48802235  0.31537484 -0.00615006  0.25127184 -0.16367364 -0.15142016\n",
            "   0.13457233 -0.01791842 -0.23180934  0.35777496]\n",
            " [ 0.23757754 -0.00566259 -0.58393655 -0.31313645  0.34705497  0.12107564\n",
            "   0.04910629  0.29463816 -0.09032098 -0.05639603]]\n"
          ]
        }
      ],
      "source": [
        "X = np.random.rand(5, 10)\n",
        "Y = X - X.mean(axis=1, keepdims=True)\n",
        "Y = X - X.mean(axis=1).reshape(-1, 1)\n",
        "print(Y)"
      ]
    },
    {
      "cell_type": "markdown",
      "metadata": {
        "id": "gC6JK3nWSfNp"
      },
      "source": [
        "#### 59. How to sort an array by the nth column? (★★☆) \n",
        "(**hint**: argsort)"
      ]
    },
    {
      "cell_type": "code",
      "execution_count": 13,
      "metadata": {
        "id": "_obpcFRmSfNq",
        "colab": {
          "base_uri": "https://localhost:8080/"
        },
        "outputId": "b4fe171b-fbed-4789-c14e-a2b371f12250"
      },
      "outputs": [
        {
          "output_type": "stream",
          "name": "stdout",
          "text": [
            "[[9 1 9]\n",
            " [9 5 3]\n",
            " [2 7 1]]\n",
            "[[9 1 9]\n",
            " [9 5 3]\n",
            " [2 7 1]]\n"
          ]
        }
      ],
      "source": [
        "Z = np.random.randint(0,10,(3,3))\n",
        "print(Z)\n",
        "print(Z[Z[:,1].argsort()])"
      ]
    },
    {
      "cell_type": "markdown",
      "metadata": {
        "id": "KTN_y7nrSfNq"
      },
      "source": [
        "#### 60. How to tell if a given 2D array has null columns? (★★☆) \n",
        "(**hint**: any, ~)"
      ]
    },
    {
      "cell_type": "code",
      "execution_count": 14,
      "metadata": {
        "id": "Mkb5X96oSfNr",
        "colab": {
          "base_uri": "https://localhost:8080/"
        },
        "outputId": "9bd56d9b-34c4-446e-a64d-7e84b2827e81"
      },
      "outputs": [
        {
          "output_type": "stream",
          "name": "stdout",
          "text": [
            "False\n"
          ]
        }
      ],
      "source": [
        "Z = np.random.randint(0,3,(3,10))\n",
        "print((~Z.any(axis=0)).any())"
      ]
    },
    {
      "cell_type": "markdown",
      "metadata": {
        "id": "pQkcynWrSfNr"
      },
      "source": [
        "#### 61. Find the nearest value from a given value in an array (★★☆) \n",
        "(**hint**: np.abs, argmin, flat)"
      ]
    },
    {
      "cell_type": "code",
      "execution_count": 15,
      "metadata": {
        "id": "wERaHcvZSfNr",
        "colab": {
          "base_uri": "https://localhost:8080/"
        },
        "outputId": "0066f7b5-8db3-436e-b672-40be69e350c7"
      },
      "outputs": [
        {
          "output_type": "stream",
          "name": "stdout",
          "text": [
            "0.6077667051073786\n"
          ]
        }
      ],
      "source": [
        "Z = np.random.uniform(0,1,10)\n",
        "z = 0.5\n",
        "m = Z.flat[np.abs(Z - z).argmin()]\n",
        "print(m)"
      ]
    },
    {
      "cell_type": "markdown",
      "metadata": {
        "id": "QDl3KaPmSfNs"
      },
      "source": [
        "#### 62. Considering two arrays with shape (1,3) and (3,1), how to compute their sum using an iterator? (★★☆) \n",
        "(**hint**: np.nditer)"
      ]
    },
    {
      "cell_type": "code",
      "execution_count": 16,
      "metadata": {
        "id": "HyE1AjMRSfNs",
        "colab": {
          "base_uri": "https://localhost:8080/"
        },
        "outputId": "ce75eb5d-0c6b-4e47-b3ff-9cad86a427ee"
      },
      "outputs": [
        {
          "output_type": "stream",
          "name": "stdout",
          "text": [
            "[[0 1 2]\n",
            " [1 2 3]\n",
            " [2 3 4]]\n"
          ]
        }
      ],
      "source": [
        "A = np.arange(3).reshape(3,1)\n",
        "B = np.arange(3).reshape(1,3)\n",
        "it = np.nditer([A,B,None])\n",
        "for x,y,z in it: z[...] = x + y\n",
        "print(it.operands[2])"
      ]
    },
    {
      "cell_type": "markdown",
      "metadata": {
        "id": "sfE0mM2gSfNt"
      },
      "source": [
        "#### 63. Create an array class that has a name attribute (★★☆) \n",
        "(**hint**: class method)"
      ]
    },
    {
      "cell_type": "code",
      "execution_count": 17,
      "metadata": {
        "id": "1xhgOs0jSfNu"
      },
      "outputs": [],
      "source": [
        "class NamedArray(np.ndarray):\n",
        "    def __new__(cls, array, name=\"no name\"):\n",
        "        obj = np.asarray(array).view(cls)\n",
        "        obj.name = name\n",
        "        return obj\n",
        "    def __array_finalize__(self, obj):\n",
        "        if obj is None: return\n",
        "        self.info = getattr(obj, 'name', \"no name\")\n"
      ]
    },
    {
      "cell_type": "markdown",
      "metadata": {
        "id": "DlE1MzqcSfNu"
      },
      "source": [
        "#### 64. Consider a given vector, how to add 1 to each element indexed by a second vector (be careful with repeated indices)? (★★★) \n",
        "(**hint**: np.bincount | np.add.at)"
      ]
    },
    {
      "cell_type": "code",
      "execution_count": 19,
      "metadata": {
        "id": "UhLihy6ISfNw",
        "colab": {
          "base_uri": "https://localhost:8080/"
        },
        "outputId": "3325765f-8fe7-4ebf-bbb1-6e6d691c2910"
      },
      "outputs": [
        {
          "output_type": "stream",
          "name": "stdout",
          "text": [
            "[3. 2. 3. 2. 1. 2. 4. 3. 4. 6.]\n",
            "[ 5.  3.  5.  3.  1.  3.  7.  5.  7. 11.]\n"
          ]
        }
      ],
      "source": [
        "Z = np.ones(10)\n",
        "I = np.random.randint(0,len(Z),20)\n",
        "Z += np.bincount(I, minlength=len(Z))\n",
        "print(Z)\n",
        "np.add.at(Z, I, 1)\n",
        "print(Z)"
      ]
    },
    {
      "cell_type": "markdown",
      "metadata": {
        "id": "emWrsDQ8SfNw"
      },
      "source": [
        "#### 65. How to accumulate elements of a vector (X) to an array (F) based on an index list (I)? (★★★) \n",
        "(**hint**: np.bincount)"
      ]
    },
    {
      "cell_type": "code",
      "execution_count": 20,
      "metadata": {
        "id": "-VwOhxfgSfNx",
        "colab": {
          "base_uri": "https://localhost:8080/"
        },
        "outputId": "adbdccec-c5c9-4cf8-be24-83cb3a643b88"
      },
      "outputs": [
        {
          "output_type": "stream",
          "name": "stdout",
          "text": [
            "[0. 7. 0. 6. 5. 0. 0. 0. 0. 3.]\n"
          ]
        }
      ],
      "source": [
        "X = [1,2,3,4,5,6]\n",
        "I = [1,3,9,3,4,1]\n",
        "F = np.bincount(I,X)\n",
        "print(F)"
      ]
    },
    {
      "cell_type": "markdown",
      "metadata": {
        "id": "sV6tw7azSfNy"
      },
      "source": [
        "#### 66. Considering a (w,h,3) image of (dtype=ubyte), compute the number of unique colors (★★★) \n",
        "(**hint**: np.unique)"
      ]
    },
    {
      "cell_type": "code",
      "execution_count": 21,
      "metadata": {
        "id": "vvTMKS8WSfNz",
        "colab": {
          "base_uri": "https://localhost:8080/"
        },
        "outputId": "a8716429-9cd6-42e7-cb8f-945641a09441"
      },
      "outputs": [
        {
          "output_type": "stream",
          "name": "stdout",
          "text": [
            "64\n"
          ]
        }
      ],
      "source": [
        "w, h = 256, 256\n",
        "I = np.random.randint(0, 4, (h, w, 3)).astype(np.ubyte)\n",
        "colors = np.unique(I.reshape(-1, 3), axis=0)\n",
        "n = len(colors)\n",
        "print(n)"
      ]
    },
    {
      "cell_type": "markdown",
      "metadata": {
        "id": "v_htOWuqSfN0"
      },
      "source": [
        "#### 67. Considering a four dimensions array, how to get sum over the last two axis at once? (★★★) \n",
        "(**hint**: sum(axis=(-2,-1)))"
      ]
    },
    {
      "cell_type": "code",
      "execution_count": 22,
      "metadata": {
        "id": "Vuh9A6PASfN1",
        "colab": {
          "base_uri": "https://localhost:8080/"
        },
        "outputId": "c6cd0e4c-fcae-45a8-f474-a6377beec002"
      },
      "outputs": [
        {
          "output_type": "stream",
          "name": "stdout",
          "text": [
            "[[47 66 60 62]\n",
            " [54 59 54 42]\n",
            " [51 59 40 53]]\n"
          ]
        }
      ],
      "source": [
        "A = np.random.randint(0,10,(3,4,3,4))\n",
        "sum = A.sum(axis=(-2,-1))\n",
        "print(sum)"
      ]
    },
    {
      "cell_type": "markdown",
      "metadata": {
        "id": "T03RhSNESfN2"
      },
      "source": [
        "#### 68. Considering a one-dimensional vector D, how to compute means of subsets of D using a vector S of same size describing subset  indices? (★★★) \n",
        "(**hint**: np.bincount)"
      ]
    },
    {
      "cell_type": "code",
      "execution_count": 23,
      "metadata": {
        "id": "9jye25ZgSfN3",
        "colab": {
          "base_uri": "https://localhost:8080/"
        },
        "outputId": "7ef8ba87-9799-450f-8a00-5a0035fef0fc"
      },
      "outputs": [
        {
          "output_type": "stream",
          "name": "stdout",
          "text": [
            "[0.61223939 0.35911482 0.58755519 0.45674032 0.50350369 0.39950679\n",
            " 0.49741411 0.37615637 0.44101942 0.57593155]\n"
          ]
        }
      ],
      "source": [
        "D = np.random.uniform(0,1,100)\n",
        "S = np.random.randint(0,10,100)\n",
        "D_sums = np.bincount(S, weights=D)\n",
        "D_counts = np.bincount(S)\n",
        "D_means = D_sums / D_counts\n",
        "print(D_means)\n"
      ]
    },
    {
      "cell_type": "markdown",
      "metadata": {
        "id": "GSR9IJXlSfN4"
      },
      "source": [
        "#### 69. How to get the diagonal of a dot product? (★★★) \n",
        "(**hint**: np.diag)"
      ]
    },
    {
      "cell_type": "code",
      "execution_count": 24,
      "metadata": {
        "id": "2kKIP2erSfN6",
        "colab": {
          "base_uri": "https://localhost:8080/"
        },
        "outputId": "0aaa87a0-253a-4817-dcc9-bceb386a1aae"
      },
      "outputs": [
        {
          "output_type": "execute_result",
          "data": {
            "text/plain": [
              "array([1.37527084, 1.86832228, 1.53884084, 1.97801902, 1.39153413])"
            ]
          },
          "metadata": {},
          "execution_count": 24
        }
      ],
      "source": [
        "A = np.random.uniform(0,1,(5,5))\n",
        "B = np.random.uniform(0,1,(5,5))\n",
        "np.diag(np.dot(A, B))\n"
      ]
    },
    {
      "cell_type": "markdown",
      "metadata": {
        "id": "jcOJjhezSfN8"
      },
      "source": [
        "#### 70. Consider the vector \\[1, 2, 3, 4, 5\\], how to build a new vector with 3 consecutive zeros interleaved between each value? (★★★) \n",
        "(**hint**: array\\[::4\\])"
      ]
    },
    {
      "cell_type": "code",
      "execution_count": 25,
      "metadata": {
        "id": "yAFn8AIKSfN9",
        "colab": {
          "base_uri": "https://localhost:8080/"
        },
        "outputId": "372ce17a-6106-4bac-bfab-a47e475282a5"
      },
      "outputs": [
        {
          "output_type": "stream",
          "name": "stdout",
          "text": [
            "[1. 0. 0. 0. 2. 0. 0. 0. 3. 0. 0. 0. 4. 0. 0. 0. 5.]\n"
          ]
        }
      ],
      "source": [
        "Z = np.array([1,2,3,4,5])\n",
        "nz = 3\n",
        "Z0 = np.zeros(len(Z) + (len(Z)-1)*(nz))\n",
        "Z0[::nz+1] = Z\n",
        "print(Z0)"
      ]
    },
    {
      "cell_type": "markdown",
      "metadata": {
        "id": "gON6BfnMSfN_"
      },
      "source": [
        "#### 71. Consider an array of dimension (5,5,3), how to mulitply it by an array with dimensions (5,5)? (★★★) \n",
        "(**hint**: array\\[:, :, None\\])"
      ]
    },
    {
      "cell_type": "code",
      "execution_count": 26,
      "metadata": {
        "collapsed": true,
        "id": "UNi_3H2YSfN_",
        "colab": {
          "base_uri": "https://localhost:8080/"
        },
        "outputId": "a28d3aee-a8e6-488b-bb23-3e5ba1fa6621"
      },
      "outputs": [
        {
          "output_type": "stream",
          "name": "stdout",
          "text": [
            "[[[2. 2. 2.]\n",
            "  [2. 2. 2.]\n",
            "  [2. 2. 2.]\n",
            "  [2. 2. 2.]\n",
            "  [2. 2. 2.]]\n",
            "\n",
            " [[2. 2. 2.]\n",
            "  [2. 2. 2.]\n",
            "  [2. 2. 2.]\n",
            "  [2. 2. 2.]\n",
            "  [2. 2. 2.]]\n",
            "\n",
            " [[2. 2. 2.]\n",
            "  [2. 2. 2.]\n",
            "  [2. 2. 2.]\n",
            "  [2. 2. 2.]\n",
            "  [2. 2. 2.]]\n",
            "\n",
            " [[2. 2. 2.]\n",
            "  [2. 2. 2.]\n",
            "  [2. 2. 2.]\n",
            "  [2. 2. 2.]\n",
            "  [2. 2. 2.]]\n",
            "\n",
            " [[2. 2. 2.]\n",
            "  [2. 2. 2.]\n",
            "  [2. 2. 2.]\n",
            "  [2. 2. 2.]\n",
            "  [2. 2. 2.]]]\n"
          ]
        }
      ],
      "source": [
        "A = np.ones((5,5,3))\n",
        "B = 2*np.ones((5,5))\n",
        "print(A * B[:,:,None])"
      ]
    },
    {
      "cell_type": "markdown",
      "metadata": {
        "id": "g40vhvwvSfOA"
      },
      "source": [
        "#### 72. How to swap two rows of an array? (★★★) \n",
        "(**hint**: array\\[\\[\\]\\] = array\\[\\[\\]\\])"
      ]
    },
    {
      "cell_type": "code",
      "execution_count": 27,
      "metadata": {
        "id": "4AiXxcNTSfOA",
        "colab": {
          "base_uri": "https://localhost:8080/"
        },
        "outputId": "9ae4704a-1b03-445b-fd04-b7f2431612f9"
      },
      "outputs": [
        {
          "output_type": "stream",
          "name": "stdout",
          "text": [
            "[[ 5  6  7  8  9]\n",
            " [ 0  1  2  3  4]\n",
            " [10 11 12 13 14]\n",
            " [15 16 17 18 19]\n",
            " [20 21 22 23 24]]\n"
          ]
        }
      ],
      "source": [
        "A = np.arange(25).reshape(5,5)\n",
        "A[[0,1]] = A[[1,0]]\n",
        "print(A)"
      ]
    },
    {
      "cell_type": "markdown",
      "metadata": {
        "id": "aRWeB2rmSfOA"
      },
      "source": [
        "#### 73. Consider a set of 10 triplets describing 10 triangles (with shared vertices), find the set of unique line segments composing all the  triangles (★★★) \n",
        "(**hint**: repeat, np.roll, np.sort, view, np.unique)"
      ]
    },
    {
      "cell_type": "code",
      "execution_count": 28,
      "metadata": {
        "id": "LaOSYBDqSfOB",
        "colab": {
          "base_uri": "https://localhost:8080/"
        },
        "outputId": "0a41299d-3e42-4006-8350-a8b3cf8fdc7a"
      },
      "outputs": [
        {
          "output_type": "stream",
          "name": "stdout",
          "text": [
            "[( 0, 15) ( 0, 87) ( 0, 92) ( 0, 98) ( 7, 22) ( 7, 59) (10, 60) (10, 94)\n",
            " (11, 17) (11, 30) (11, 82) (11, 88) (13, 50) (13, 59) (15, 98) (16, 56)\n",
            " (16, 87) (17, 30) (20, 29) (20, 84) (22, 59) (29, 84) (35, 50) (35, 69)\n",
            " (50, 59) (50, 69) (56, 87) (60, 94) (82, 88) (87, 92)]\n"
          ]
        }
      ],
      "source": [
        "faces = np.random.randint(0,100,(10,3))\n",
        "F = np.roll(faces.repeat(2,axis=1),-1,axis=1)\n",
        "F = F.reshape(len(F)*3,2)\n",
        "F = np.sort(F,axis=1)\n",
        "G = F.view( dtype=[('p0',F.dtype),('p1',F.dtype)] )\n",
        "G = np.unique(G)\n",
        "print(G)"
      ]
    },
    {
      "cell_type": "markdown",
      "metadata": {
        "id": "USgowhsdSfOC"
      },
      "source": [
        "#### 74. Given an array C that is a bincount, how to produce an array A such that np.bincount(A) == C? (★★★) \n",
        "(**hint**: np.repeat)"
      ]
    },
    {
      "cell_type": "code",
      "execution_count": 29,
      "metadata": {
        "id": "YDZVxFh1SfOC",
        "colab": {
          "base_uri": "https://localhost:8080/"
        },
        "outputId": "eb115f02-1b26-44ba-bfb7-07f1316e426f"
      },
      "outputs": [
        {
          "output_type": "stream",
          "name": "stdout",
          "text": [
            "[1 1 2 3 4 4 6]\n"
          ]
        }
      ],
      "source": [
        "\n",
        "C = np.bincount([1,1,2,3,4,4,6])\n",
        "A = np.repeat(np.arange(len(C)), C)\n",
        "print(A)"
      ]
    },
    {
      "cell_type": "markdown",
      "metadata": {
        "id": "mguUmWozSfOD"
      },
      "source": [
        "#### 75. How to compute averages using a sliding window over an array? (★★★) \n",
        "(**hint**: np.cumsum)"
      ]
    },
    {
      "cell_type": "code",
      "execution_count": 30,
      "metadata": {
        "id": "z3kINL5lSfOD",
        "colab": {
          "base_uri": "https://localhost:8080/"
        },
        "outputId": "8361645c-b7c1-42ca-a25e-2b79f595283c"
      },
      "outputs": [
        {
          "output_type": "stream",
          "name": "stdout",
          "text": [
            "[ 1.  2.  3.  4.  5.  6.  7.  8.  9. 10. 11. 12. 13. 14. 15. 16. 17. 18.]\n"
          ]
        }
      ],
      "source": [
        "def moving_average(a, n=3) :\n",
        "    ret = np.cumsum(a, dtype=float)\n",
        "    ret[n:] = ret[n:] - ret[:-n]\n",
        "    return ret[n - 1:] / n\n",
        "Z = np.arange(20)\n",
        "print(moving_average(Z, n=3))\n"
      ]
    },
    {
      "cell_type": "markdown",
      "metadata": {
        "id": "Uqj6jiXrSfOD"
      },
      "source": [
        "#### 76. Consider a one-dimensional array Z, build a two-dimensional array whose first row is (Z\\[0\\],Z\\[1\\],Z\\[2\\]) and each subsequent row is  shifted by 1 (last row should be (Z\\[-3\\],Z\\[-2\\],Z\\[-1\\]) (★★★) \n",
        "(**hint**: from numpy.lib import stride_tricks)"
      ]
    },
    {
      "cell_type": "code",
      "execution_count": 31,
      "metadata": {
        "id": "fCZBp226SfOE",
        "colab": {
          "base_uri": "https://localhost:8080/"
        },
        "outputId": "3fd35443-8a21-429e-a3c7-39a1e3991d03"
      },
      "outputs": [
        {
          "output_type": "stream",
          "name": "stdout",
          "text": [
            "[[0 1 2]\n",
            " [1 2 3]\n",
            " [2 3 4]\n",
            " [3 4 5]\n",
            " [4 5 6]\n",
            " [5 6 7]\n",
            " [6 7 8]\n",
            " [7 8 9]]\n"
          ]
        }
      ],
      "source": [
        "from numpy.lib import stride_tricks\n",
        "\n",
        "def rolling(a, window):\n",
        "    shape = (a.size - window + 1, window)\n",
        "    strides = (a.strides[0], a.strides[0])\n",
        "    return stride_tricks.as_strided(a, shape=shape, strides=strides)\n",
        "Z = rolling(np.arange(10), 3)\n",
        "print(Z)"
      ]
    },
    {
      "cell_type": "markdown",
      "metadata": {
        "id": "04WjDJkzSfOE"
      },
      "source": [
        "#### 77. How to negate a boolean, or to change the sign of a float inplace? (★★★) \n",
        "(**hint**: np.logical_not, np.negative)"
      ]
    },
    {
      "cell_type": "code",
      "execution_count": 34,
      "metadata": {
        "id": "jepMgDr1SfOF",
        "colab": {
          "base_uri": "https://localhost:8080/"
        },
        "outputId": "a5d54468-770a-47ab-bff0-0229fad8e94d"
      },
      "outputs": [
        {
          "output_type": "execute_result",
          "data": {
            "text/plain": [
              "array([-0.41800284,  0.2631151 , -0.06857599,  0.25984202,  0.47736939,\n",
              "        0.47577722, -0.74052996,  0.19999888,  0.36247856, -0.06819219,\n",
              "       -0.07589989, -0.89184243, -0.30204918, -0.51715944,  0.2345562 ,\n",
              "       -0.38922139,  0.8106075 , -0.12332445, -0.11063087,  0.52684688,\n",
              "       -0.72621728,  0.42705007,  0.98505555, -0.1538495 , -0.2667703 ,\n",
              "       -0.55715548, -0.49460694, -0.51523405,  0.98431014, -0.47552028,\n",
              "       -0.30682502,  0.11600623, -0.03098586, -0.38211754, -0.97213735,\n",
              "       -0.29069325, -0.59540992, -0.69839272, -0.29025847,  0.89077311,\n",
              "        0.28315646, -0.88027247, -0.25547826, -0.6295687 , -0.95824873,\n",
              "       -0.14742449, -0.99859448, -0.33356693,  0.52725879,  0.59203557,\n",
              "        0.44112539,  0.46128766,  0.47596193,  0.11800461,  0.63555116,\n",
              "       -0.7565999 ,  0.23633164,  0.53398657,  0.4933035 , -0.89245971,\n",
              "       -0.01382793,  0.71551562, -0.42443492, -0.42762508, -0.84191138,\n",
              "        0.96670136, -0.20335982,  0.24180442, -0.62263835,  0.23984645,\n",
              "       -0.12069331, -0.07244456, -0.91566642,  0.47501483, -0.17854098,\n",
              "       -0.57049276, -0.78583037, -0.2306795 , -0.2897524 ,  0.46193903,\n",
              "        0.51447454, -0.48974724, -0.22543643,  0.89583104,  0.06051881,\n",
              "       -0.14392069,  0.42054614,  0.65932002,  0.29490132,  0.91700798,\n",
              "       -0.23400068, -0.59520176, -0.81249046, -0.67501382,  0.15489077,\n",
              "       -0.00113956, -0.09827536,  0.1948741 , -0.36593318, -0.27550195])"
            ]
          },
          "metadata": {},
          "execution_count": 34
        }
      ],
      "source": [
        "Z = np.random.randint(0,2,100)\n",
        "np.logical_not(Z, out=Z)\n",
        "\n",
        "Z = np.random.uniform(-1.0,1.0,100)\n",
        "np.negative(Z, out=Z)"
      ]
    },
    {
      "cell_type": "markdown",
      "metadata": {
        "id": "pJ1R9NZRSfOG"
      },
      "source": [
        "#### 78. Consider 2 sets of points P0,P1 describing lines (2d) and a point p, how to compute distance from p to each line i  (P0\\[i\\],P1\\[i\\])? (★★★)"
      ]
    },
    {
      "cell_type": "code",
      "execution_count": 35,
      "metadata": {
        "id": "jtiyAvNISfOH"
      },
      "outputs": [],
      "source": [
        ""
      ]
    },
    {
      "cell_type": "markdown",
      "metadata": {
        "id": "K66GmtirSfOH"
      },
      "source": [
        "#### 79. Consider 2 sets of points P0,P1 describing lines (2d) and a set of points P, how to compute distance from each point j (P\\[j\\]) to each line i (P0\\[i\\],P1\\[i\\])? (★★★)"
      ]
    },
    {
      "cell_type": "code",
      "execution_count": 35,
      "metadata": {
        "id": "l3h11q2wSfOJ"
      },
      "outputs": [],
      "source": [
        ""
      ]
    },
    {
      "cell_type": "markdown",
      "metadata": {
        "id": "7P4OXuliSfOK"
      },
      "source": [
        "#### 80. Consider an arbitrary array, write a function that extract a subpart with a fixed shape and centered on a given element (pad with a `fill` value when necessary) (★★★) \n",
        "(**hint**: minimum, maximum)"
      ]
    },
    {
      "cell_type": "code",
      "execution_count": null,
      "metadata": {
        "id": "BF-9F2cSSfOL"
      },
      "outputs": [],
      "source": [
        ""
      ]
    },
    {
      "cell_type": "markdown",
      "metadata": {
        "id": "PgNzpntYSfOM"
      },
      "source": [
        "#### 81. Consider an array Z = \\[1,2,3,4,5,6,7,8,9,10,11,12,13,14\\], how to generate an array R = \\[\\[1,2,3,4\\], \\[2,3,4,5\\], \\[3,4,5,6\\], ..., \\[11,12,13,14\\]\\]? (★★★) \n",
        "(**hint**: stride\\_tricks.as\\_strided)"
      ]
    },
    {
      "cell_type": "code",
      "execution_count": 36,
      "metadata": {
        "id": "Ix5r1jGYSfOM",
        "colab": {
          "base_uri": "https://localhost:8080/"
        },
        "outputId": "434c86d7-7fe8-492f-a043-60811482f505"
      },
      "outputs": [
        {
          "output_type": "stream",
          "name": "stdout",
          "text": [
            "[[ 1  2  3  4]\n",
            " [ 2  3  4  5]\n",
            " [ 3  4  5  6]\n",
            " [ 4  5  6  7]\n",
            " [ 5  6  7  8]\n",
            " [ 6  7  8  9]\n",
            " [ 7  8  9 10]\n",
            " [ 8  9 10 11]\n",
            " [ 9 10 11 12]\n",
            " [10 11 12 13]\n",
            " [11 12 13 14]]\n"
          ]
        }
      ],
      "source": [
        "Z = np.arange(1,15,dtype=np.uint32)\n",
        "R = stride_tricks.as_strided(Z,(11,4),(4,4))\n",
        "print(R)"
      ]
    },
    {
      "cell_type": "markdown",
      "metadata": {
        "id": "pB0VPETwSfON"
      },
      "source": [
        "#### 82. Compute a matrix rank (★★★) \n",
        "(**hint**: np.linalg.svd) (suggestion: np.linalg.svd)"
      ]
    },
    {
      "cell_type": "code",
      "execution_count": 37,
      "metadata": {
        "id": "1_a9-62PSfON",
        "colab": {
          "base_uri": "https://localhost:8080/"
        },
        "outputId": "ac8a0ebb-9663-4911-de7a-710465366d22"
      },
      "outputs": [
        {
          "output_type": "stream",
          "name": "stdout",
          "text": [
            "10\n"
          ]
        }
      ],
      "source": [
        "Z = np.random.uniform(0,1,(10,10))\n",
        "U, S, V = np.linalg.svd(Z)\n",
        "rank = np.sum(S > 1e-10)\n",
        "print(rank)"
      ]
    },
    {
      "cell_type": "markdown",
      "metadata": {
        "id": "MGYmmN67SfOO"
      },
      "source": [
        "#### 83. How to find the most frequent value in an array? \n",
        "(**hint**: np.bincount, argmax)"
      ]
    },
    {
      "cell_type": "code",
      "execution_count": 38,
      "metadata": {
        "id": "74x73pLdSfOO",
        "colab": {
          "base_uri": "https://localhost:8080/"
        },
        "outputId": "71707164-38b2-4a13-bc54-2b88dac2a81d"
      },
      "outputs": [
        {
          "output_type": "stream",
          "name": "stdout",
          "text": [
            "1\n"
          ]
        }
      ],
      "source": [
        "Z = np.random.randint(0,10,50)\n",
        "print(np.bincount(Z).argmax())"
      ]
    },
    {
      "cell_type": "markdown",
      "metadata": {
        "id": "KP1YEU0VSfOO"
      },
      "source": [
        "#### 84. Extract all the contiguous 3x3 blocks from a random 10x10 matrix (★★★) \n",
        "(**hint**: stride\\_tricks.as\\_strided)"
      ]
    },
    {
      "cell_type": "code",
      "execution_count": 39,
      "metadata": {
        "id": "soHj14yBSfOO",
        "colab": {
          "base_uri": "https://localhost:8080/"
        },
        "outputId": "b59b9f40-c7a2-4bd4-a118-94f9315e2dc1"
      },
      "outputs": [
        {
          "output_type": "stream",
          "name": "stdout",
          "text": [
            "[[[[1 0 1]\n",
            "   [3 1 0]\n",
            "   [2 1 1]]\n",
            "\n",
            "  [[0 1 2]\n",
            "   [1 0 2]\n",
            "   [1 1 0]]\n",
            "\n",
            "  [[1 2 0]\n",
            "   [0 2 2]\n",
            "   [1 0 1]]\n",
            "\n",
            "  [[2 0 2]\n",
            "   [2 2 3]\n",
            "   [0 1 2]]\n",
            "\n",
            "  [[0 2 0]\n",
            "   [2 3 3]\n",
            "   [1 2 3]]\n",
            "\n",
            "  [[2 0 3]\n",
            "   [3 3 0]\n",
            "   [2 3 4]]\n",
            "\n",
            "  [[0 3 1]\n",
            "   [3 0 4]\n",
            "   [3 4 4]]\n",
            "\n",
            "  [[3 1 0]\n",
            "   [0 4 2]\n",
            "   [4 4 4]]]\n",
            "\n",
            "\n",
            " [[[3 1 0]\n",
            "   [2 1 1]\n",
            "   [1 2 2]]\n",
            "\n",
            "  [[1 0 2]\n",
            "   [1 1 0]\n",
            "   [2 2 4]]\n",
            "\n",
            "  [[0 2 2]\n",
            "   [1 0 1]\n",
            "   [2 4 1]]\n",
            "\n",
            "  [[2 2 3]\n",
            "   [0 1 2]\n",
            "   [4 1 1]]\n",
            "\n",
            "  [[2 3 3]\n",
            "   [1 2 3]\n",
            "   [1 1 2]]\n",
            "\n",
            "  [[3 3 0]\n",
            "   [2 3 4]\n",
            "   [1 2 4]]\n",
            "\n",
            "  [[3 0 4]\n",
            "   [3 4 4]\n",
            "   [2 4 4]]\n",
            "\n",
            "  [[0 4 2]\n",
            "   [4 4 4]\n",
            "   [4 4 0]]]\n",
            "\n",
            "\n",
            " [[[2 1 1]\n",
            "   [1 2 2]\n",
            "   [3 0 4]]\n",
            "\n",
            "  [[1 1 0]\n",
            "   [2 2 4]\n",
            "   [0 4 2]]\n",
            "\n",
            "  [[1 0 1]\n",
            "   [2 4 1]\n",
            "   [4 2 2]]\n",
            "\n",
            "  [[0 1 2]\n",
            "   [4 1 1]\n",
            "   [2 2 0]]\n",
            "\n",
            "  [[1 2 3]\n",
            "   [1 1 2]\n",
            "   [2 0 2]]\n",
            "\n",
            "  [[2 3 4]\n",
            "   [1 2 4]\n",
            "   [0 2 4]]\n",
            "\n",
            "  [[3 4 4]\n",
            "   [2 4 4]\n",
            "   [2 4 4]]\n",
            "\n",
            "  [[4 4 4]\n",
            "   [4 4 0]\n",
            "   [4 4 2]]]\n",
            "\n",
            "\n",
            " [[[1 2 2]\n",
            "   [3 0 4]\n",
            "   [3 3 0]]\n",
            "\n",
            "  [[2 2 4]\n",
            "   [0 4 2]\n",
            "   [3 0 4]]\n",
            "\n",
            "  [[2 4 1]\n",
            "   [4 2 2]\n",
            "   [0 4 1]]\n",
            "\n",
            "  [[4 1 1]\n",
            "   [2 2 0]\n",
            "   [4 1 2]]\n",
            "\n",
            "  [[1 1 2]\n",
            "   [2 0 2]\n",
            "   [1 2 0]]\n",
            "\n",
            "  [[1 2 4]\n",
            "   [0 2 4]\n",
            "   [2 0 0]]\n",
            "\n",
            "  [[2 4 4]\n",
            "   [2 4 4]\n",
            "   [0 0 0]]\n",
            "\n",
            "  [[4 4 0]\n",
            "   [4 4 2]\n",
            "   [0 0 2]]]\n",
            "\n",
            "\n",
            " [[[3 0 4]\n",
            "   [3 3 0]\n",
            "   [1 3 4]]\n",
            "\n",
            "  [[0 4 2]\n",
            "   [3 0 4]\n",
            "   [3 4 4]]\n",
            "\n",
            "  [[4 2 2]\n",
            "   [0 4 1]\n",
            "   [4 4 2]]\n",
            "\n",
            "  [[2 2 0]\n",
            "   [4 1 2]\n",
            "   [4 2 4]]\n",
            "\n",
            "  [[2 0 2]\n",
            "   [1 2 0]\n",
            "   [2 4 2]]\n",
            "\n",
            "  [[0 2 4]\n",
            "   [2 0 0]\n",
            "   [4 2 3]]\n",
            "\n",
            "  [[2 4 4]\n",
            "   [0 0 0]\n",
            "   [2 3 1]]\n",
            "\n",
            "  [[4 4 2]\n",
            "   [0 0 2]\n",
            "   [3 1 1]]]\n",
            "\n",
            "\n",
            " [[[3 3 0]\n",
            "   [1 3 4]\n",
            "   [2 1 2]]\n",
            "\n",
            "  [[3 0 4]\n",
            "   [3 4 4]\n",
            "   [1 2 2]]\n",
            "\n",
            "  [[0 4 1]\n",
            "   [4 4 2]\n",
            "   [2 2 0]]\n",
            "\n",
            "  [[4 1 2]\n",
            "   [4 2 4]\n",
            "   [2 0 3]]\n",
            "\n",
            "  [[1 2 0]\n",
            "   [2 4 2]\n",
            "   [0 3 2]]\n",
            "\n",
            "  [[2 0 0]\n",
            "   [4 2 3]\n",
            "   [3 2 3]]\n",
            "\n",
            "  [[0 0 0]\n",
            "   [2 3 1]\n",
            "   [2 3 2]]\n",
            "\n",
            "  [[0 0 2]\n",
            "   [3 1 1]\n",
            "   [3 2 0]]]\n",
            "\n",
            "\n",
            " [[[1 3 4]\n",
            "   [2 1 2]\n",
            "   [1 4 3]]\n",
            "\n",
            "  [[3 4 4]\n",
            "   [1 2 2]\n",
            "   [4 3 0]]\n",
            "\n",
            "  [[4 4 2]\n",
            "   [2 2 0]\n",
            "   [3 0 2]]\n",
            "\n",
            "  [[4 2 4]\n",
            "   [2 0 3]\n",
            "   [0 2 3]]\n",
            "\n",
            "  [[2 4 2]\n",
            "   [0 3 2]\n",
            "   [2 3 3]]\n",
            "\n",
            "  [[4 2 3]\n",
            "   [3 2 3]\n",
            "   [3 3 0]]\n",
            "\n",
            "  [[2 3 1]\n",
            "   [2 3 2]\n",
            "   [3 0 0]]\n",
            "\n",
            "  [[3 1 1]\n",
            "   [3 2 0]\n",
            "   [0 0 3]]]\n",
            "\n",
            "\n",
            " [[[2 1 2]\n",
            "   [1 4 3]\n",
            "   [4 2 3]]\n",
            "\n",
            "  [[1 2 2]\n",
            "   [4 3 0]\n",
            "   [2 3 4]]\n",
            "\n",
            "  [[2 2 0]\n",
            "   [3 0 2]\n",
            "   [3 4 2]]\n",
            "\n",
            "  [[2 0 3]\n",
            "   [0 2 3]\n",
            "   [4 2 3]]\n",
            "\n",
            "  [[0 3 2]\n",
            "   [2 3 3]\n",
            "   [2 3 0]]\n",
            "\n",
            "  [[3 2 3]\n",
            "   [3 3 0]\n",
            "   [3 0 1]]\n",
            "\n",
            "  [[2 3 2]\n",
            "   [3 0 0]\n",
            "   [0 1 4]]\n",
            "\n",
            "  [[3 2 0]\n",
            "   [0 0 3]\n",
            "   [1 4 0]]]]\n"
          ]
        }
      ],
      "source": [
        "Z = np.random.randint(0,5,(10,10))\n",
        "n = 3\n",
        "i = 1 + (Z.shape[0]-3)\n",
        "j = 1 + (Z.shape[1]-3)\n",
        "C = stride_tricks.as_strided(Z, shape=(i, j, n, n), strides=Z.strides + Z.strides)\n",
        "print(C)\n"
      ]
    },
    {
      "cell_type": "markdown",
      "metadata": {
        "id": "lqaE2e62SfOO"
      },
      "source": [
        "#### 85. Create a 2D array subclass such that Z\\[i,j\\] == Z\\[j,i\\] (★★★) \n",
        "(**hint**: class method)"
      ]
    },
    {
      "cell_type": "code",
      "execution_count": null,
      "metadata": {
        "id": "wY2cVAJYSfOO"
      },
      "outputs": [],
      "source": [
        ""
      ]
    },
    {
      "cell_type": "markdown",
      "metadata": {
        "id": "GsGfEWubSfOP"
      },
      "source": [
        "#### 86. Consider a set of p matrices wich shape (n,n) and a set of p vectors with shape (n,1). How to compute the sum of of the p matrix products at once? (result has shape (n,1)) (★★★) \n",
        "(**hint**: np.tensordot)"
      ]
    },
    {
      "cell_type": "code",
      "execution_count": 40,
      "metadata": {
        "id": "2Y6V8bUoSfOP",
        "colab": {
          "base_uri": "https://localhost:8080/"
        },
        "outputId": "e24a73a1-e43e-40f5-d0e5-9e11b7b0b5ca"
      },
      "outputs": [
        {
          "output_type": "stream",
          "name": "stdout",
          "text": [
            "[[200.]\n",
            " [200.]\n",
            " [200.]\n",
            " [200.]\n",
            " [200.]\n",
            " [200.]\n",
            " [200.]\n",
            " [200.]\n",
            " [200.]\n",
            " [200.]\n",
            " [200.]\n",
            " [200.]\n",
            " [200.]\n",
            " [200.]\n",
            " [200.]\n",
            " [200.]\n",
            " [200.]\n",
            " [200.]\n",
            " [200.]\n",
            " [200.]]\n"
          ]
        }
      ],
      "source": [
        "p, n = 10, 20\n",
        "M = np.ones((p,n,n))\n",
        "V = np.ones((p,n,1))\n",
        "S = np.tensordot(M, V, axes=[[0, 2], [0, 1]])\n",
        "print(S)"
      ]
    },
    {
      "cell_type": "markdown",
      "metadata": {
        "id": "DlSdVVybSfOP"
      },
      "source": [
        "#### 87. Consider a 16x16 array, how to get the block-sum (block size is 4x4)? (★★★) \n",
        "(**hint**: np.add.reduceat)"
      ]
    },
    {
      "cell_type": "code",
      "execution_count": 41,
      "metadata": {
        "id": "AjTq7BKBSfOQ",
        "colab": {
          "base_uri": "https://localhost:8080/"
        },
        "outputId": "6ca185dd-312d-452e-844e-444341b71373"
      },
      "outputs": [
        {
          "output_type": "stream",
          "name": "stdout",
          "text": [
            "[[16. 16. 16. 16.]\n",
            " [16. 16. 16. 16.]\n",
            " [16. 16. 16. 16.]\n",
            " [16. 16. 16. 16.]]\n"
          ]
        }
      ],
      "source": [
        "Z = np.ones((16,16))\n",
        "k = 4\n",
        "S = np.add.reduceat(np.add.reduceat(Z, np.arange(0, Z.shape[0], k), axis=0),\n",
        "                                       np.arange(0, Z.shape[1], k), axis=1)\n",
        "print(S)"
      ]
    },
    {
      "cell_type": "markdown",
      "metadata": {
        "id": "CFoPJeoVSfOQ"
      },
      "source": [
        "#### 88. How to implement the Game of Life using numpy arrays? (★★★)"
      ]
    },
    {
      "cell_type": "code",
      "execution_count": null,
      "metadata": {
        "id": "3iNn2gUsSfOR"
      },
      "outputs": [],
      "source": [
        ""
      ]
    },
    {
      "cell_type": "markdown",
      "metadata": {
        "id": "jV8M3w7OSfOR"
      },
      "source": [
        "#### 89. How to get the n largest values of an array (★★★) \n",
        "(**hint**: np.argsort | np.argpartition)"
      ]
    },
    {
      "cell_type": "code",
      "execution_count": 42,
      "metadata": {
        "id": "pijthbH8SfOR",
        "colab": {
          "base_uri": "https://localhost:8080/"
        },
        "outputId": "0eb9aa6f-7897-445f-bbef-26138acc6cdc"
      },
      "outputs": [
        {
          "output_type": "stream",
          "name": "stdout",
          "text": [
            "[9995 9996 9997 9998 9999]\n",
            "[9997 9998 9999 9996 9995]\n"
          ]
        }
      ],
      "source": [
        "Z = np.arange(10000)\n",
        "np.random.shuffle(Z)\n",
        "n = 5\n",
        "print (Z[np.argsort(Z)[-n:]])\n",
        "print (Z[np.argpartition(-Z,n)[:n]])"
      ]
    },
    {
      "cell_type": "markdown",
      "metadata": {
        "id": "ZMxc2RxWSfOS"
      },
      "source": [
        "#### 90. Given an arbitrary number of vectors, build the cartesian product (every combinations of every item) (★★★) \n",
        "(**hint**: np.indices)"
      ]
    },
    {
      "cell_type": "code",
      "execution_count": null,
      "metadata": {
        "scrolled": true,
        "id": "TNwVZRn4SfOS"
      },
      "outputs": [],
      "source": [
        ""
      ]
    },
    {
      "cell_type": "markdown",
      "metadata": {
        "id": "XJa8duOQSfOT"
      },
      "source": [
        "#### 91. How to create a record array from a regular array? (★★★) \n",
        "(**hint**: np.core.records.fromarrays)"
      ]
    },
    {
      "cell_type": "code",
      "execution_count": 43,
      "metadata": {
        "id": "Oe0uvxgBSfOT",
        "colab": {
          "base_uri": "https://localhost:8080/"
        },
        "outputId": "c38de41c-2285-4a46-9278-143f610b5075"
      },
      "outputs": [
        {
          "output_type": "stream",
          "name": "stdout",
          "text": [
            "[(b'Hello', 2.5, 3) (b'World', 3.6, 2)]\n"
          ]
        }
      ],
      "source": [
        "Z = np.array([(\"Hello\", 2.5, 3),\n",
        "              (\"World\", 3.6, 2)])\n",
        "R = np.core.records.fromarrays(Z.T,\n",
        "                               names='col1, col2, col3',\n",
        "                               formats = 'S8, f8, i8')\n",
        "print(R)"
      ]
    },
    {
      "cell_type": "markdown",
      "metadata": {
        "id": "35jsjXjJSfOU"
      },
      "source": [
        "#### 92. Consider a large vector Z, compute Z to the power of 3 using 3 different methods (★★★) \n",
        "(**hint**: np.power, \\*, np.einsum)"
      ]
    },
    {
      "cell_type": "markdown",
      "metadata": {
        "id": "n7f15yuASfOW"
      },
      "source": [
        "#### 93. Consider two arrays A and B of shape (8,3) and (2,2). How to find rows of A that contain elements of each row of B regardless of the order of the elements in B? (★★★) \n",
        "(**hint**: np.where)"
      ]
    },
    {
      "cell_type": "markdown",
      "metadata": {
        "id": "5S081lMOSfOa"
      },
      "source": [
        "#### 94. Considering a 10x3 matrix, extract rows with unequal values (e.g. \\[2,2,3\\]) (★★★)"
      ]
    },
    {
      "cell_type": "code",
      "execution_count": 46,
      "metadata": {
        "id": "j4xWFnq6SfOa",
        "colab": {
          "base_uri": "https://localhost:8080/"
        },
        "outputId": "edee3f5c-629a-43b1-edbf-89d2a58ae55f"
      },
      "outputs": [
        {
          "output_type": "stream",
          "name": "stdout",
          "text": [
            "[[3 2 0]\n",
            " [4 4 0]\n",
            " [3 2 2]\n",
            " [4 4 0]\n",
            " [4 3 0]\n",
            " [4 4 4]\n",
            " [0 0 3]\n",
            " [4 1 0]\n",
            " [1 1 3]\n",
            " [4 2 0]]\n"
          ]
        }
      ],
      "source": [
        "Z = np.random.randint(0,5,(10,3))\n",
        "print(Z)"
      ]
    },
    {
      "cell_type": "markdown",
      "metadata": {
        "id": "KDFgMXB_SfOb"
      },
      "source": [
        "#### 95. Convert a vector of ints into a matrix binary representation (★★★) \n",
        "(**hint**: np.unpackbits)"
      ]
    },
    {
      "cell_type": "code",
      "execution_count": 49,
      "metadata": {
        "id": "sHoWBGpDSfOc",
        "colab": {
          "base_uri": "https://localhost:8080/"
        },
        "outputId": "32ce5636-4683-4a8c-94b7-43b149011dad"
      },
      "outputs": [
        {
          "output_type": "stream",
          "name": "stdout",
          "text": [
            "[[0 0 0 0 0 0 0 0]\n",
            " [0 0 0 0 0 0 0 1]\n",
            " [0 0 0 0 0 0 1 0]\n",
            " [0 0 0 0 0 0 1 1]\n",
            " [0 0 0 0 1 1 1 1]\n",
            " [0 0 0 1 0 0 0 0]\n",
            " [0 0 1 0 0 0 0 0]\n",
            " [0 1 0 0 0 0 0 0]\n",
            " [1 0 0 0 0 0 0 0]]\n"
          ]
        }
      ],
      "source": [
        "I = np.array([0, 1, 2, 3, 15, 16, 32, 64, 128], dtype=np.uint8)\n",
        "print(np.unpackbits(I[:, np.newaxis], axis=1))"
      ]
    },
    {
      "cell_type": "markdown",
      "metadata": {
        "id": "3ZFEBp70SfOc"
      },
      "source": [
        "#### 96. Given a two dimensional array, how to extract unique rows? (★★★) \n",
        "(**hint**: np.ascontiguousarray)"
      ]
    },
    {
      "cell_type": "code",
      "source": [
        ""
      ],
      "metadata": {
        "id": "uJnRIPDPUeeF"
      },
      "execution_count": null,
      "outputs": []
    },
    {
      "cell_type": "markdown",
      "metadata": {
        "id": "qwZAjmVMSfOd"
      },
      "source": [
        "#### 97. Considering 2 vectors A & B, write the einsum equivalent of inner, outer, sum, and mul function (★★★) \n",
        "(**hint**: np.einsum)"
      ]
    },
    {
      "cell_type": "code",
      "execution_count": 52,
      "metadata": {
        "id": "BSjnsh8xSfOd",
        "colab": {
          "base_uri": "https://localhost:8080/"
        },
        "outputId": "1bbb2b0a-d97f-49c7-a67c-d813178388cd"
      },
      "outputs": [
        {
          "output_type": "execute_result",
          "data": {
            "text/plain": [
              "array([[0.67656375, 0.31169429, 0.75404961, 0.74546287, 0.61786915,\n",
              "        0.52530517, 0.08346246, 0.27110848, 0.41383891, 0.32830902],\n",
              "       [0.24192416, 0.11145495, 0.26963138, 0.26656096, 0.22093628,\n",
              "        0.18783745, 0.02984432, 0.09694237, 0.1479796 , 0.11739601],\n",
              "       [0.27638997, 0.12733342, 0.30804451, 0.30453665, 0.25241204,\n",
              "        0.21459778, 0.0340961 , 0.11075329, 0.16906156, 0.13412087],\n",
              "       [0.70373873, 0.32421386, 0.78433689, 0.77540526, 0.64268659,\n",
              "        0.54640467, 0.08681483, 0.28199787, 0.43046123, 0.34149594],\n",
              "       [0.19330396, 0.08905553, 0.21544278, 0.21298943, 0.17653407,\n",
              "        0.15008721, 0.02384642, 0.07745958, 0.11823971, 0.09380259],\n",
              "       [0.20910489, 0.09633505, 0.23305337, 0.23039948, 0.19096421,\n",
              "        0.16235555, 0.02579566, 0.08379123, 0.12790478, 0.10147015],\n",
              "       [0.30101092, 0.13867634, 0.33548526, 0.33166493, 0.27489703,\n",
              "        0.23371426, 0.0371334 , 0.12061925, 0.18412165, 0.14606842],\n",
              "       [0.18405293, 0.08479356, 0.20513224, 0.2027963 , 0.1680856 ,\n",
              "        0.14290443, 0.02270519, 0.07375256, 0.11258106, 0.08931344],\n",
              "       [0.29369045, 0.13530379, 0.32732639, 0.32359896, 0.26821163,\n",
              "        0.22803041, 0.03623033, 0.11768584, 0.17964388, 0.1425161 ],\n",
              "       [0.18631931, 0.08583768, 0.20765819, 0.20529348, 0.17015537,\n",
              "        0.14466411, 0.02298478, 0.07466073, 0.11396735, 0.09041322]])"
            ]
          },
          "metadata": {},
          "execution_count": 52
        }
      ],
      "source": [
        "A = np.random.uniform(0,1,10)\n",
        "B = np.random.uniform(0,1,10)\n",
        "\n",
        "np.einsum('i->', A)       \n",
        "np.einsum('i,i->i', A, B) \n",
        "np.einsum('i,i', A, B)    \n",
        "np.einsum('i,j->ij', A, B)"
      ]
    },
    {
      "cell_type": "markdown",
      "metadata": {
        "id": "l638SIlOSfOd"
      },
      "source": [
        "#### 98. Considering a path described by two vectors (X,Y), how to sample it using equidistant samples (★★★)? \n",
        "(**hint**: np.cumsum, np.interp)"
      ]
    },
    {
      "cell_type": "code",
      "execution_count": null,
      "metadata": {
        "collapsed": true,
        "id": "2IQHANhrSfOe"
      },
      "outputs": [],
      "source": [
        ""
      ]
    },
    {
      "cell_type": "markdown",
      "metadata": {
        "id": "88wUCZtNSfOe"
      },
      "source": [
        "#### 99. Given an integer n and a 2D array X, select from X the rows which can be interpreted as draws from a multinomial distribution with n degrees, i.e., the rows which only contain integers and which sum to n. (★★★) \n",
        "(**hint**: np.logical\\_and.reduce, np.mod)"
      ]
    },
    {
      "cell_type": "code",
      "execution_count": 53,
      "metadata": {
        "id": "poFq0Vo1SfOf",
        "colab": {
          "base_uri": "https://localhost:8080/"
        },
        "outputId": "7f1f07d6-d7cc-4314-88da-774de4df20f6"
      },
      "outputs": [
        {
          "output_type": "stream",
          "name": "stdout",
          "text": [
            "[[2. 0. 1. 1.]]\n"
          ]
        }
      ],
      "source": [
        "\n",
        "X = np.asarray([[1.0, 0.0, 3.0, 8.0],\n",
        "                [2.0, 0.0, 1.0, 1.0],\n",
        "                [1.5, 2.5, 1.0, 0.0]])\n",
        "n = 4\n",
        "M = np.logical_and.reduce(np.mod(X, 1) == 0, axis=-1)\n",
        "M &= (X.sum(axis=-1) == n)\n",
        "print(X[M])"
      ]
    },
    {
      "cell_type": "markdown",
      "metadata": {
        "id": "Gd_5XA76SfOf"
      },
      "source": [
        "#### 100. Compute bootstrapped 95% confidence intervals for the mean of a 1D array X (i.e., resample the elements of an array with replacement N times, compute the mean of each sample, and then compute percentiles over the means). (★★★) \n",
        "(**hint**: np.percentile)"
      ]
    },
    {
      "cell_type": "code",
      "execution_count": 54,
      "metadata": {
        "id": "ecYXOYyUSfOg",
        "colab": {
          "base_uri": "https://localhost:8080/"
        },
        "outputId": "84f7e591-747b-4029-e984-2368e98fb537"
      },
      "outputs": [
        {
          "output_type": "stream",
          "name": "stdout",
          "text": [
            "[-0.32963662  0.04682757]\n"
          ]
        }
      ],
      "source": [
        "X = np.random.randn(100) # random 1D array\n",
        "N = 1000 # number of bootstrap samples\n",
        "idx = np.random.randint(0, X.size, (N, X.size))\n",
        "means = X[idx].mean(axis=1)\n",
        "confint = np.percentile(means, [2.5, 97.5])\n",
        "print(confint)"
      ]
    }
  ],
  "metadata": {
    "kernelspec": {
      "display_name": "Python 3",
      "language": "python",
      "name": "python3"
    },
    "language_info": {
      "codemirror_mode": {
        "name": "ipython",
        "version": 3
      },
      "file_extension": ".py",
      "mimetype": "text/x-python",
      "name": "python",
      "nbconvert_exporter": "python",
      "pygments_lexer": "ipython3",
      "version": "3.8.3"
    },
    "colab": {
      "name": "Copy of Numpy_tasks.ipynb",
      "provenance": [],
      "collapsed_sections": [],
      "include_colab_link": true
    }
  },
  "nbformat": 4,
  "nbformat_minor": 0
}